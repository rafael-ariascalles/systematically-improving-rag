{
  "cells": [
    {
      "cell_type": "markdown",
      "metadata": {
        "id": "view-in-github",
        "colab_type": "text"
      },
      "source": [
        "<a href=\"https://colab.research.google.com/github/rafael-ariascalles/systematically-improving-rag/blob/dev/cohort_2/week1/2.%20benchmark_retrieval.ipynb\" target=\"_parent\"><img src=\"https://colab.research.google.com/assets/colab-badge.svg\" alt=\"Open In Colab\"/></a>"
      ]
    },
    {
      "cell_type": "markdown",
      "metadata": {
        "id": "Q4MUyFQWlYxq"
      },
      "source": [
        "# Week 1: Making Data-Driven Decisions in RAG Applications\n",
        "\n",
        "> **Prerequisites:** Before starting this notebook, please run the `1. synthetic_questions.ipynb` notebook to generate the evaluation dataset we'll use for our experiments.\n",
        "\n",
        "When building RAG systems, intuition isn't enough - we need objective metrics to guide our decisions. Teams often waste resources on complex architectures without clear evidence they outperform simpler approaches.\n",
        "\n",
        "Our own experiments revealed several counterintuitive findings:\n",
        "\n",
        "1. Embedding search outperformed hybrid search in both recall and MRR metrics\n",
        "2. Upgrading from `text-embedding-3-small` to `text-embedding-3-large` provided better performance gains than adding a re-ranker\n",
        "3. For our specific use case, the simpler architecture (pure embedding search) actually performed better than more complex alternatives\n",
        "\n",
        "This notebook introduces a systematic framework for evaluating and comparing different retrieval strategies.\n",
        "\n",
        "## Why This Matters\n",
        "\n",
        "Consider this common scenario: Your team is debating whether to add a re-ranker to your retrieval pipeline. The re-ranker promises better results but adds latency and cost. Without objective metrics, you might invest in unnecessary complexity.\n",
        "\n",
        "Learning how to objectively measure performance gains is crucial for making informed decisions about your RAG architecture, measure real-world tradeoffs and make evidence-based architectural decisions.\n",
        "\n",
        "## What you'll learn\n",
        "\n",
        "Through hands-on experiments with a Text-to-SQL retrieval system, you'll discover:\n",
        "\n",
        "1. **Understanding Retrieval Metrics**\n",
        "   - Choose appropriate metrics for your use case\n",
        "   - Understand tradeoffs between different metrics\n",
        "   - Learn when to use recall vs MRR\n",
        "2. **Implementing Evaluation Pipelines**\n",
        "   - Set up reproducible benchmarks\n",
        "   - Compare different retrieval strategies\n",
        "   - Measure performance consistently\n",
        "3. **Making Data-Driven Decisions**\n",
        "   - Evaluate cost-benefit tradeoffs\n",
        "   - Compare architectural alternatives\n",
        "   - Build evidence-based systems\n",
        "\n",
        "By the end of this notebook, you'll have a reproducible methodology for evaluating retrieval components and a framework for making data-driven decisions about your RAG architecture.\n"
      ]
    },
    {
      "cell_type": "markdown",
      "metadata": {
        "id": "fxaZrt5glYxt"
      },
      "source": [
        "## Setting up Our Retrieval Pipeline\n",
        "\n",
        "> **Important** : Please note that your exact scores might differ slightly but in general Text-Embedding-3-Large should outperform Text-Embedding-3-Small along with the re-ranker. This is because you are benchmarking using different questions from mine which you generated in the previous notebook.\n",
        "\n",
        "In this example, we're using a local `lancedb` instance. We're doing so because of 3 reasons.\n",
        "\n",
        "1. LanceDB handles the embeddings of our data for us\n",
        "2. It provides embedding search, hybrid search and other re-ranking methods all within a single api.\n",
        "3. We can use Pydantic to define our table schema and easily ingest our data.\n",
        "\n",
        "This makes it quick and easy for us to compare the performance of each method.\n"
      ]
    },
    {
      "cell_type": "code",
      "source": [
        "%%capture\n",
        "!pip install datasets\n",
        "!pip install openai\n",
        "!pip install instructor\n",
        "!pip install braintrust\n",
        "!pip install lancedb\n",
        "!pip install cohere\n",
        "!pip install tantivy"
      ],
      "metadata": {
        "id": "lhc_XEX6lipq"
      },
      "execution_count": 3,
      "outputs": []
    },
    {
      "cell_type": "code",
      "source": [
        "import os\n",
        "from google.colab import userdata\n",
        "\n",
        "\n",
        "def load_colab_secrets_to_environ(secret_names: list):\n",
        "  \"\"\"Loads secrets from Google Colab's secret manager into os.environ.\"\"\"\n",
        "  try:\n",
        "    # Load each secret into os.environ.\n",
        "    for secret_name in secret_names:\n",
        "        print(\"loading {}\".format(secret_name))\n",
        "        os.environ[secret_name] = userdata.get(secret_name)\n",
        "\n",
        "  except ImportError:\n",
        "    # If google.colab is not available, assume we're not in Colab.\n",
        "    pass  # Or handle this case differently if needed\n",
        "\n",
        "# Load the secrets before using openai\n",
        "load_colab_secrets_to_environ(\n",
        "    [\n",
        "        \"OPENAI_API_KEY\",\n",
        "        \"HUGGINGFACE_TOKEN\",\n",
        "        \"BRAINTRUST_API_KEY\",\n",
        "        \"HF_TOKEN\"\n",
        "    ]\n",
        ")\n",
        "\n",
        "# Rest of your code (import openai, etc.) follows here"
      ],
      "metadata": {
        "id": "2GDRZgrEliOd",
        "outputId": "8cee1e3c-962b-43d8-cb8b-5b1c6172c989",
        "colab": {
          "base_uri": "https://localhost:8080/"
        }
      },
      "execution_count": 4,
      "outputs": [
        {
          "output_type": "stream",
          "name": "stdout",
          "text": [
            "loading OPENAI_API_KEY\n",
            "loading HUGGINGFACE_TOKEN\n",
            "loading BRAINTRUST_API_KEY\n",
            "loading HF_TOKEN\n"
          ]
        }
      ]
    },
    {
      "cell_type": "code",
      "source": [
        "#!rm -r lancedb"
      ],
      "metadata": {
        "id": "ncibqjxBV3gQ"
      },
      "execution_count": 5,
      "outputs": []
    },
    {
      "cell_type": "code",
      "execution_count": 6,
      "metadata": {
        "id": "nDF_nQ0blYxt",
        "outputId": "2bb71a79-2bf6-4e51-b1b8-0625d3a18f63",
        "colab": {
          "base_uri": "https://localhost:8080/",
          "height": 148,
          "referenced_widgets": [
            "52da59fb367746c09aa2d69bbd312cf6",
            "a77a2c698543494bbc9c67ed42650472",
            "94df98b35f8f4be4bfc0bee483d3cf8e",
            "c65e04783bf04a34b47615a7ed625ef4",
            "719dbc5c89e943afafa9a1650d170989",
            "441332aed8aa40f0a3cec701d694d9d2",
            "08702ff083e24a438af28c3dbec0df3d",
            "8f0d3e03e2614890ada6f5f6fcc7681e",
            "c23d9db57afe4ee3a5c33cee5b2d31ce",
            "fb826562ad874b57a7bf223eb35084f5",
            "002bde57cddb4fbc83172c7c1329ad1d",
            "aec83750132c463d8593c14556bd02c5",
            "fcfdee8abc2549cf98e098a5233263d7",
            "3fa564886d544390a5317b1d027b8d70",
            "cd2f114ef5744fb58c7e2352b78cc326",
            "af6bd71d7dc541a1bcf8858d5633a76c",
            "4eea0575b7de4999a3f063c2d25d9352",
            "d1a0e03bb3be44288ced201d22214485",
            "6166bcf5cb1541e5bbc0c302f961a5d6",
            "fac28dd332fe4803bfc762723bdd7ce6",
            "e8c3f12a6745485fa67c46d9578e748f",
            "95a38d4703a5482b8da100bd2f3f85c6",
            "29e9b62199da4d89969a00b3c283007c",
            "20736c5c88984fabad83689ff5467762",
            "51812b76fa4e460fb76c9832da64a3c6",
            "27cfe8ad3db04b1d91ef7c5cfca828e5",
            "a11a4054ca054828ac93ef14517fdf1a",
            "253e07dfce8a447ca9c0643c1cb11062",
            "4d165b231fbf4f29a75fecd23fee4f00",
            "0f9b5088727647efaf499142e5735ca6",
            "0a6961086bf74df191f7e5115448f970",
            "0fa47db6daca4951b2a1590ae2de65c9",
            "b7061383be2140f3a1b5879b2272bbe9"
          ]
        }
      },
      "outputs": [
        {
          "output_type": "display_data",
          "data": {
            "text/plain": [
              "README.md:   0%|          | 0.00/341 [00:00<?, ?B/s]"
            ],
            "application/vnd.jupyter.widget-view+json": {
              "version_major": 2,
              "version_minor": 0,
              "model_id": "52da59fb367746c09aa2d69bbd312cf6"
            }
          },
          "metadata": {}
        },
        {
          "output_type": "display_data",
          "data": {
            "text/plain": [
              "train-00000-of-00001.parquet:   0%|          | 0.00/85.3k [00:00<?, ?B/s]"
            ],
            "application/vnd.jupyter.widget-view+json": {
              "version_major": 2,
              "version_minor": 0,
              "model_id": "aec83750132c463d8593c14556bd02c5"
            }
          },
          "metadata": {}
        },
        {
          "output_type": "display_data",
          "data": {
            "text/plain": [
              "Generating train split:   0%|          | 0/1528 [00:00<?, ? examples/s]"
            ],
            "application/vnd.jupyter.widget-view+json": {
              "version_major": 2,
              "version_minor": 0,
              "model_id": "29e9b62199da4d89969a00b3c283007c"
            }
          },
          "metadata": {}
        },
        {
          "output_type": "stream",
          "name": "stdout",
          "text": [
            "1528 chunks ingested into the database\n",
            "1528 chunks ingested into the database\n"
          ]
        }
      ],
      "source": [
        "import datasets\n",
        "import lancedb\n",
        "from lancedb.pydantic import LanceModel, Vector\n",
        "from lancedb.embeddings import get_registry\n",
        "from lancedb.table import Table\n",
        "\n",
        "\n",
        "def get_or_create_lancedb_table(db: Table, table_name: str, embedding_model: str):\n",
        "    if table_name in db.table_names():\n",
        "        print(f\"Table {table_name} already exists\")\n",
        "        return db.open_table(table_name)\n",
        "\n",
        "    func = get_registry().get(\"openai\").create(name=embedding_model)\n",
        "\n",
        "    class Chunk(LanceModel):\n",
        "        id: str\n",
        "        query: str = func.SourceField()\n",
        "        vector: Vector(func.ndims()) = func.VectorField()\n",
        "\n",
        "    table = db.create_table(table_name, schema=Chunk, mode=\"overwrite\")\n",
        "    dataset = datasets.load_dataset(\"567-labs/bird-rag\")[\"train\"]\n",
        "    formatted_dataset = [{\"id\": item[\"id\"], \"query\": item[\"query\"]} for item in dataset]\n",
        "    table.add(formatted_dataset)\n",
        "\n",
        "    table.create_fts_index(\"query\", replace=True)\n",
        "    print(f\"{table.count_rows()} chunks ingested into the database\")\n",
        "    return table\n",
        "\n",
        "\n",
        "# Create LanceDB Instance\n",
        "db = lancedb.connect(\"./lancedb\")\n",
        "table_small = get_or_create_lancedb_table(\n",
        "    db, \"chunks_text_embedding_3_small\", \"text-embedding-3-small\"\n",
        ")\n",
        "table_large = get_or_create_lancedb_table(\n",
        "    db, \"chunks_text_embedding_3_large\", \"text-embedding-3-large\"\n",
        ")"
      ]
    },
    {
      "cell_type": "markdown",
      "metadata": {
        "id": "LG4ttpgolYxv"
      },
      "source": [
        "### Defining Metrics\n",
        "\n",
        "> **Important** : In this case because we have a single relevant chunk, each individual query's recall will be 0 or 1. However, the reason why we have a recall metric below that is between 0 and 1 is because we are taking the average of all these individual recall values we compute for different levels of k\n",
        "\n",
        "Let's now start by evaluating the retrieval performance of our model. We'll do so by measuring the recall and MRR at different levels of k.\n",
        "\n",
        "$$ \\text{Recall} = \\frac{\\text{Number of Relevant Items Retrieved}}{\\text{Total Number of Relevant Items}} $$\n",
        "\n",
        "$$ \\text{MRR} = \\frac{\\sum\\_{i=1}^{n} \\frac{1}{rank(i)}}{n} $$\n",
        "\n",
        "As models improve, their context window and reasoning abilities improve. This means that their ability to select relevant information in response to a user query will improve. By optimizing for recall, we ensure that the language model has access to all necessary information, which can lead to more accurate and reliable generated responses.\n",
        "\n",
        "MRR@K is a useful metric if we want to display retrieved results as citations to users. We normally show a smaller list of retrieved results to users and we want to make sure that the correct result is ranked highly during retrieval so that it's more likely to be selected.\n"
      ]
    },
    {
      "cell_type": "code",
      "source": [
        "def calculate_mrr(predictions_list: list[list[str]], gt_list: list[list[str]]):\n",
        "    \"\"\"Calculates the Mean Reciprocal Rank (MRR) for a list of predictions.\n",
        "\n",
        "    Args:\n",
        "        predictions_list: A list of lists, where each inner list contains predicted items for a single query.\n",
        "        gt_list: A list of lists, where each inner list contains ground truth items for a single query.\n",
        "\n",
        "    Returns:\n",
        "        The MRR score.\n",
        "    \"\"\"\n",
        "    rr_scores = []\n",
        "    for predictions, gt in zip(predictions_list, gt_list):\n",
        "        for i, prediction in enumerate(predictions, 1):  # Start index at 1\n",
        "            if prediction in gt:\n",
        "                rr_scores.append(1 / i)\n",
        "                break  # Break after finding the first relevant item\n",
        "        else:  # If no relevant items are found for the query\n",
        "            rr_scores.append(0)\n",
        "\n",
        "    return sum(rr_scores) / len(rr_scores)  # Calculate the average RR"
      ],
      "metadata": {
        "id": "cZCotaLnZYmr"
      },
      "execution_count": 25,
      "outputs": []
    },
    {
      "cell_type": "code",
      "execution_count": 26,
      "metadata": {
        "id": "L6Raie0_lYxv"
      },
      "outputs": [],
      "source": [
        "def calculate_mrr(predictions: list[str], gt: list[str]):\n",
        "    # this metric is just for one relevant metric in the set\n",
        "    mrr = 0\n",
        "    for label in gt:\n",
        "        if label in predictions:\n",
        "            # Find the relevant item that has the smallest index\n",
        "            mrr = max(mrr, 1 / (predictions.index(label) + 1))\n",
        "    return mrr\n",
        "\n",
        "\n",
        "def calculate_recall(predictions: list[str], gt: list[str]):\n",
        "    # Calculate the proportion of relevant items that were retrieved\n",
        "    return len([label for label in gt if label in predictions]) / len(gt)"
      ]
    },
    {
      "cell_type": "markdown",
      "metadata": {
        "id": "9T-soYzwlYxv"
      },
      "source": [
        "### Parameterizing Your Retrieval\n",
        "\n",
        "Now that we have a vector database with our data inside, we will now use it to evaluate different retrieval methods. Because LanceDB gives us the ability to use different retrieval methods in a single API, we can define a single `retrieve` function that can be easily modified to use different retrieval methods.\n",
        "\n",
        "Once we've done so, we'll iterate over different subsets of the retrievewd items and compute the recall and mrr metrics. To log these scores to braintrust, we'll need to use the `Score` object.\n"
      ]
    },
    {
      "cell_type": "code",
      "execution_count": null,
      "metadata": {
        "id": "JLpdezMalYxv"
      },
      "outputs": [],
      "source": [
        "from braintrust import Score\n",
        "from lancedb.rerankers import CohereReranker\n",
        "import lancedb\n",
        "from lancedb.table import Table\n",
        "from lancedb.rerankers import Reranker\n",
        "from typing import Literal, Optional\n",
        "\n",
        "db = lancedb.connect(\"./lancedb\")\n",
        "# Define Our Metrics\n",
        "metrics = [(\"recall\", calculate_recall), (\"mrr\", calculate_mrr)]\n",
        "k = [1, 3, 5, 10, 15, 20, 25, 30, 35, 40]\n",
        "\n",
        "\n",
        "def retrieve(\n",
        "    question: str,\n",
        "    table: Table,\n",
        "    max_k=25,\n",
        "    mode: Literal[\"vector\", \"fts\", \"hybrid\"] = \"vector\",\n",
        "    reranker: Optional[Reranker] = None,\n",
        "    hooks=None,\n",
        "):\n",
        "    results = table.search(question, query_type=mode).limit(max_k)\n",
        "    if reranker:\n",
        "        results = results.rerank(reranker=reranker)\n",
        "    return [\n",
        "        {\"id\": result[\"id\"], \"query\": result[\"query\"]} for result in results.to_list()\n",
        "    ]\n",
        "\n",
        "\n",
        "# Similar to our previous section, we can use the id of each item to compute the recall and MRR metrics.\n",
        "def evaluate_braintrust(input, output, **kwargs):\n",
        "    # We first get the predictions ( what we retrieved ) and the labels\n",
        "    predictions = [item[\"id\"] for item in output]\n",
        "    labels = [kwargs[\"metadata\"][\"chunk_id\"]]\n",
        "\n",
        "    scores = []\n",
        "    for metric, score_fn in metrics:\n",
        "        for subset_k in k:\n",
        "            scores.append(\n",
        "                Score(\n",
        "                    name=f\"{metric}@{subset_k}\",\n",
        "                    score=score_fn(predictions[:subset_k], labels),\n",
        "                    metadata={\"query\": input, \"result\": output, **kwargs[\"metadata\"]},\n",
        "                )\n",
        "            )\n",
        "\n",
        "    return scores"
      ]
    },
    {
      "cell_type": "markdown",
      "metadata": {
        "id": "pNgqW30TlYxw"
      },
      "source": [
        "We want to understand how each method performs when we vary the size of retrieve items with respect to recall and mrr. This helps us understand if a method is worth the cost and latency to implement.\n",
        "\n",
        "More practically, if a cheaper method has a recall@10 that's equivalent to a more expensive's method recall@5, then it might be worth it to start with the cheaper method first. Using these objective metrics, we can make an informed decision about which method to use. Let's see how we can do so with a simple example below.\n"
      ]
    },
    {
      "cell_type": "code",
      "execution_count": null,
      "metadata": {
        "id": "LC1OfpSFlYxw",
        "outputId": "2f96cfee-635f-40e4-9734-b930d5c0ec89",
        "colab": {
          "referenced_widgets": [
            "83d165cc5e26462a8eba7b9782384434",
            "c1bfa1585f58490a96b0cb11b9f6294a",
            "b76f2395dda043b7bb1d5281322e88b6",
            "31f21e754e824ba0acbea7b2f7b430c7",
            "21c14815a0494c6ba9bb5d3c029bb60d",
            "05e07608fb3346a499c12118b92725be",
            "12abb279ca9440ab90c978d574198ebb",
            "7a7729d41aff4e349956bf5e8662adba"
          ]
        }
      },
      "outputs": [
        {
          "name": "stderr",
          "output_type": "stream",
          "text": [
            "Experiment 85944371-4b07-4c2b-a862-a6af7bbcfda5-rerank-english-v3.0-hybrid-text-embedding-3-small is running at https://www.braintrust.dev/app/567/p/Text-2-SQL/experiments/85944371-4b07-4c2b-a862-a6af7bbcfda5-rerank-english-v3.0-hybrid-text-embedding-3-small\n",
            "Text-2-SQL [experiment_name=85944371-4b07-4c2b-a862-a6af7bbcfda5-rerank-english-v3.0-hybrid-text-embedding-3-small] (data): 290it [00:00, 43161.99it/s]\n"
          ]
        },
        {
          "data": {
            "application/vnd.jupyter.widget-view+json": {
              "model_id": "83d165cc5e26462a8eba7b9782384434",
              "version_major": 2,
              "version_minor": 0
            },
            "text/plain": [
              "Text-2-SQL [experiment_name=85944371-4b07-4c2b-a862-a6af7bbcfda5-rerank-english-v3.0-hybrid-text-embedding-3-s…"
            ]
          },
          "metadata": {},
          "output_type": "display_data"
        },
        {
          "name": "stdout",
          "output_type": "stream",
          "text": [
            "\n",
            "=========================SUMMARY=========================\n",
            "85944371-4b07-4c2b-a862-a6af7bbcfda5-rerank-english-v3.0-hybrid-text-embedding-3-small compared to reranker-k-comparison-120-88e6c54e-23bb-4f32-840d-f4e817eb3b2e:\n",
            "64.14% (-) 'mrr@1'     score\t(0 improvements, 0 regressions)\n",
            "70.75% (-) 'mrr@3'     score\t(0 improvements, 0 regressions)\n",
            "72.13% (-00.02%) 'mrr@5'     score\t(0 improvements, 1 regressions)\n",
            "73.36% (-00.02%) 'mrr@10'    score\t(0 improvements, 1 regressions)\n",
            "73.48% (-00.02%) 'mrr@15'    score\t(0 improvements, 1 regressions)\n",
            "73.54% (-00.02%) 'mrr@20'    score\t(0 improvements, 3 regressions)\n",
            "73.60% (-00.02%) 'mrr@25'    score\t(0 improvements, 5 regressions)\n",
            "73.60% (-00.02%) 'mrr@30'    score\t(0 improvements, 5 regressions)\n",
            "73.60% (-00.03%) 'mrr@35'    score\t(0 improvements, 6 regressions)\n",
            "73.62% (-00.02%) 'mrr@40'    score\t(0 improvements, 6 regressions)\n",
            "64.14% (-) 'recall@1'  score\t(0 improvements, 0 regressions)\n",
            "78.97% (-) 'recall@3'  score\t(0 improvements, 0 regressions)\n",
            "85.17% (-) 'recall@5'  score\t(0 improvements, 0 regressions)\n",
            "94.14% (-) 'recall@10' score\t(0 improvements, 0 regressions)\n",
            "95.52% (-) 'recall@15' score\t(0 improvements, 0 regressions)\n",
            "96.55% (-) 'recall@20' score\t(0 improvements, 0 regressions)\n",
            "97.93% (-) 'recall@25' score\t(0 improvements, 0 regressions)\n",
            "97.93% (-) 'recall@30' score\t(0 improvements, 0 regressions)\n",
            "97.93% (-00.34%) 'recall@35' score\t(0 improvements, 1 regressions)\n",
            "98.62% (-) 'recall@40' score\t(0 improvements, 0 regressions)\n",
            "\n",
            "21.53s (+469.08%) 'duration'\t(13 improvements, 277 regressions)\n",
            "\n",
            "See results for 85944371-4b07-4c2b-a862-a6af7bbcfda5-rerank-english-v3.0-hybrid-text-embedding-3-small at https://www.braintrust.dev/app/567/p/Text-2-SQL/experiments/85944371-4b07-4c2b-a862-a6af7bbcfda5-rerank-english-v3.0-hybrid-text-embedding-3-small\n"
          ]
        },
        {
          "name": "stderr",
          "output_type": "stream",
          "text": [
            "Experiment 85944371-4b07-4c2b-a862-a6af7bbcfda5-rerank-english-v3.0-hybrid-text-embedding-3-large is running at https://www.braintrust.dev/app/567/p/Text-2-SQL/experiments/85944371-4b07-4c2b-a862-a6af7bbcfda5-rerank-english-v3.0-hybrid-text-embedding-3-large\n",
            "Text-2-SQL [experiment_name=85944371-4b07-4c2b-a862-a6af7bbcfda5-rerank-english-v3.0-hybrid-text-embedding-3-large] (data): 290it [00:00, 64702.81it/s]\n"
          ]
        },
        {
          "data": {
            "application/vnd.jupyter.widget-view+json": {
              "model_id": "c1bfa1585f58490a96b0cb11b9f6294a",
              "version_major": 2,
              "version_minor": 0
            },
            "text/plain": [
              "Text-2-SQL [experiment_name=85944371-4b07-4c2b-a862-a6af7bbcfda5-rerank-english-v3.0-hybrid-text-embedding-3-l…"
            ]
          },
          "metadata": {},
          "output_type": "display_data"
        },
        {
          "name": "stdout",
          "output_type": "stream",
          "text": [
            "\n",
            "=========================SUMMARY=========================\n",
            "85944371-4b07-4c2b-a862-a6af7bbcfda5-rerank-english-v3.0-hybrid-text-embedding-3-large compared to 85944371-4b07-4c2b-a862-a6af7bbcfda5-rerank-english-v3.0-hybrid-text-embedding-3-small:\n",
            "64.14% (-) 'mrr@1'     score\t(0 improvements, 0 regressions)\n",
            "70.75% (-) 'mrr@3'     score\t(0 improvements, 0 regressions)\n",
            "72.13% (-) 'mrr@5'     score\t(0 improvements, 0 regressions)\n",
            "73.33% (-00.03%) 'mrr@10'    score\t(1 improvements, 1 regressions)\n",
            "73.48% (+00.00%) 'mrr@15'    score\t(2 improvements, 1 regressions)\n",
            "73.54% (+00.00%) 'mrr@20'    score\t(2 improvements, 1 regressions)\n",
            "73.60% (+00.00%) 'mrr@25'    score\t(4 improvements, 3 regressions)\n",
            "73.60% (+00.00%) 'mrr@30'    score\t(4 improvements, 3 regressions)\n",
            "73.60% (+00.00%) 'mrr@35'    score\t(4 improvements, 3 regressions)\n",
            "73.63% (+00.01%) 'mrr@40'    score\t(5 improvements, 3 regressions)\n",
            "64.14% (-) 'recall@1'  score\t(0 improvements, 0 regressions)\n",
            "78.97% (-) 'recall@3'  score\t(0 improvements, 0 regressions)\n",
            "85.17% (-) 'recall@5'  score\t(0 improvements, 0 regressions)\n",
            "93.79% (-00.34%) 'recall@10' score\t(0 improvements, 1 regressions)\n",
            "95.52% (-) 'recall@15' score\t(0 improvements, 0 regressions)\n",
            "96.55% (-) 'recall@20' score\t(0 improvements, 0 regressions)\n",
            "97.93% (-) 'recall@25' score\t(0 improvements, 0 regressions)\n",
            "97.93% (-) 'recall@30' score\t(0 improvements, 0 regressions)\n",
            "97.93% (-) 'recall@35' score\t(0 improvements, 0 regressions)\n",
            "98.97% (+00.34%) 'recall@40' score\t(1 improvements, 0 regressions)\n",
            "\n",
            "27.96s (+643.16%) 'duration'\t(3 improvements, 287 regressions)\n",
            "\n",
            "See results for 85944371-4b07-4c2b-a862-a6af7bbcfda5-rerank-english-v3.0-hybrid-text-embedding-3-large at https://www.braintrust.dev/app/567/p/Text-2-SQL/experiments/85944371-4b07-4c2b-a862-a6af7bbcfda5-rerank-english-v3.0-hybrid-text-embedding-3-large\n"
          ]
        },
        {
          "name": "stderr",
          "output_type": "stream",
          "text": [
            "Experiment 85944371-4b07-4c2b-a862-a6af7bbcfda5-rerank-english-v3.0-vector-text-embedding-3-small is running at https://www.braintrust.dev/app/567/p/Text-2-SQL/experiments/85944371-4b07-4c2b-a862-a6af7bbcfda5-rerank-english-v3.0-vector-text-embedding-3-small\n",
            "Text-2-SQL [experiment_name=85944371-4b07-4c2b-a862-a6af7bbcfda5-rerank-english-v3.0-vector-text-embedding-3-small] (data): 290it [00:00, 35313.79it/s]\n"
          ]
        },
        {
          "data": {
            "application/vnd.jupyter.widget-view+json": {
              "model_id": "b76f2395dda043b7bb1d5281322e88b6",
              "version_major": 2,
              "version_minor": 0
            },
            "text/plain": [
              "Text-2-SQL [experiment_name=85944371-4b07-4c2b-a862-a6af7bbcfda5-rerank-english-v3.0-vector-text-embedding-3-s…"
            ]
          },
          "metadata": {},
          "output_type": "display_data"
        },
        {
          "name": "stdout",
          "output_type": "stream",
          "text": [
            "\n",
            "=========================SUMMARY=========================\n",
            "85944371-4b07-4c2b-a862-a6af7bbcfda5-rerank-english-v3.0-vector-text-embedding-3-small compared to 85944371-4b07-4c2b-a862-a6af7bbcfda5-rerank-english-v3.0-hybrid-text-embedding-3-large:\n",
            "64.14% (-) 'mrr@1'     score\t(0 improvements, 0 regressions)\n",
            "70.75% (-) 'mrr@3'     score\t(0 improvements, 0 regressions)\n",
            "72.14% (+00.02%) 'mrr@5'     score\t(1 improvements, 0 regressions)\n",
            "73.38% (+00.05%) 'mrr@10'    score\t(2 improvements, 1 regressions)\n",
            "73.50% (+00.02%) 'mrr@15'    score\t(2 improvements, 2 regressions)\n",
            "73.56% (+00.02%) 'mrr@20'    score\t(4 improvements, 2 regressions)\n",
            "73.62% (+00.02%) 'mrr@25'    score\t(6 improvements, 3 regressions)\n",
            "73.62% (+00.02%) 'mrr@30'    score\t(6 improvements, 3 regressions)\n",
            "73.63% (+00.03%) 'mrr@35'    score\t(7 improvements, 3 regressions)\n",
            "73.64% (+00.01%) 'mrr@40'    score\t(7 improvements, 4 regressions)\n",
            "64.14% (-) 'recall@1'  score\t(0 improvements, 0 regressions)\n",
            "78.97% (-) 'recall@3'  score\t(0 improvements, 0 regressions)\n",
            "85.17% (-) 'recall@5'  score\t(0 improvements, 0 regressions)\n",
            "94.14% (+00.34%) 'recall@10' score\t(1 improvements, 0 regressions)\n",
            "95.52% (-) 'recall@15' score\t(0 improvements, 0 regressions)\n",
            "96.55% (-) 'recall@20' score\t(0 improvements, 0 regressions)\n",
            "97.93% (-) 'recall@25' score\t(0 improvements, 0 regressions)\n",
            "97.93% (-) 'recall@30' score\t(0 improvements, 0 regressions)\n",
            "98.28% (+00.34%) 'recall@35' score\t(1 improvements, 0 regressions)\n",
            "98.62% (-00.34%) 'recall@40' score\t(0 improvements, 1 regressions)\n",
            "\n",
            "18.39s (-957.99%) 'duration'\t(280 improvements, 10 regressions)\n",
            "\n",
            "See results for 85944371-4b07-4c2b-a862-a6af7bbcfda5-rerank-english-v3.0-vector-text-embedding-3-small at https://www.braintrust.dev/app/567/p/Text-2-SQL/experiments/85944371-4b07-4c2b-a862-a6af7bbcfda5-rerank-english-v3.0-vector-text-embedding-3-small\n"
          ]
        },
        {
          "name": "stderr",
          "output_type": "stream",
          "text": [
            "Experiment 85944371-4b07-4c2b-a862-a6af7bbcfda5-rerank-english-v3.0-vector-text-embedding-3-large is running at https://www.braintrust.dev/app/567/p/Text-2-SQL/experiments/85944371-4b07-4c2b-a862-a6af7bbcfda5-rerank-english-v3.0-vector-text-embedding-3-large\n",
            "Text-2-SQL [experiment_name=85944371-4b07-4c2b-a862-a6af7bbcfda5-rerank-english-v3.0-vector-text-embedding-3-large] (data): 290it [00:00, 37834.71it/s]\n"
          ]
        },
        {
          "data": {
            "application/vnd.jupyter.widget-view+json": {
              "model_id": "31f21e754e824ba0acbea7b2f7b430c7",
              "version_major": 2,
              "version_minor": 0
            },
            "text/plain": [
              "Text-2-SQL [experiment_name=85944371-4b07-4c2b-a862-a6af7bbcfda5-rerank-english-v3.0-vector-text-embedding-3-l…"
            ]
          },
          "metadata": {},
          "output_type": "display_data"
        },
        {
          "name": "stdout",
          "output_type": "stream",
          "text": [
            "\n",
            "=========================SUMMARY=========================\n",
            "85944371-4b07-4c2b-a862-a6af7bbcfda5-rerank-english-v3.0-vector-text-embedding-3-large compared to 85944371-4b07-4c2b-a862-a6af7bbcfda5-rerank-english-v3.0-vector-text-embedding-3-small:\n",
            "64.14% (-) 'mrr@1'     score\t(0 improvements, 0 regressions)\n",
            "70.75% (-) 'mrr@3'     score\t(0 improvements, 0 regressions)\n",
            "72.14% (-) 'mrr@5'     score\t(0 improvements, 0 regressions)\n",
            "73.35% (-00.03%) 'mrr@10'    score\t(1 improvements, 1 regressions)\n",
            "73.52% (+00.02%) 'mrr@15'    score\t(3 improvements, 1 regressions)\n",
            "73.56% (+00.00%) 'mrr@20'    score\t(3 improvements, 2 regressions)\n",
            "73.62% (+00.00%) 'mrr@25'    score\t(4 improvements, 4 regressions)\n",
            "73.62% (+00.00%) 'mrr@30'    score\t(4 improvements, 4 regressions)\n",
            "73.63% (+00.00%) 'mrr@35'    score\t(4 improvements, 4 regressions)\n",
            "73.65% (+00.01%) 'mrr@40'    score\t(5 improvements, 4 regressions)\n",
            "64.14% (-) 'recall@1'  score\t(0 improvements, 0 regressions)\n",
            "78.97% (-) 'recall@3'  score\t(0 improvements, 0 regressions)\n",
            "85.17% (-) 'recall@5'  score\t(0 improvements, 0 regressions)\n",
            "93.79% (-00.34%) 'recall@10' score\t(0 improvements, 1 regressions)\n",
            "95.86% (+00.34%) 'recall@15' score\t(1 improvements, 0 regressions)\n",
            "96.55% (-) 'recall@20' score\t(0 improvements, 0 regressions)\n",
            "97.93% (-) 'recall@25' score\t(0 improvements, 0 regressions)\n",
            "97.93% (-) 'recall@30' score\t(0 improvements, 0 regressions)\n",
            "98.28% (-) 'recall@35' score\t(0 improvements, 0 regressions)\n",
            "98.97% (+00.34%) 'recall@40' score\t(1 improvements, 0 regressions)\n",
            "\n",
            "25.39s (+700.65%) 'duration'\t(12 improvements, 278 regressions)\n",
            "\n",
            "See results for 85944371-4b07-4c2b-a862-a6af7bbcfda5-rerank-english-v3.0-vector-text-embedding-3-large at https://www.braintrust.dev/app/567/p/Text-2-SQL/experiments/85944371-4b07-4c2b-a862-a6af7bbcfda5-rerank-english-v3.0-vector-text-embedding-3-large\n"
          ]
        },
        {
          "name": "stderr",
          "output_type": "stream",
          "text": [
            "Experiment 85944371-4b07-4c2b-a862-a6af7bbcfda5-none-hybrid-text-embedding-3-small is running at https://www.braintrust.dev/app/567/p/Text-2-SQL/experiments/85944371-4b07-4c2b-a862-a6af7bbcfda5-none-hybrid-text-embedding-3-small\n",
            "Text-2-SQL [experiment_name=85944371-4b07-4c2b-a862-a6af7bbcfda5-none-hybrid-text-embedding-3-small] (data): 290it [00:00, 49709.76it/s]\n"
          ]
        },
        {
          "data": {
            "application/vnd.jupyter.widget-view+json": {
              "model_id": "21c14815a0494c6ba9bb5d3c029bb60d",
              "version_major": 2,
              "version_minor": 0
            },
            "text/plain": [
              "Text-2-SQL [experiment_name=85944371-4b07-4c2b-a862-a6af7bbcfda5-none-hybrid-text-embedding-3-small] (tasks): …"
            ]
          },
          "metadata": {},
          "output_type": "display_data"
        },
        {
          "name": "stdout",
          "output_type": "stream",
          "text": [
            "\n",
            "=========================SUMMARY=========================\n",
            "85944371-4b07-4c2b-a862-a6af7bbcfda5-none-hybrid-text-embedding-3-small compared to 85944371-4b07-4c2b-a862-a6af7bbcfda5-rerank-english-v3.0-vector-text-embedding-3-large:\n",
            "45.86% (-18.28%) 'mrr@1'     score\t(18 improvements, 71 regressions)\n",
            "54.66% (-16.09%) 'mrr@3'     score\t(24 improvements, 93 regressions)\n",
            "56.66% (-15.49%) 'mrr@5'     score\t(32 improvements, 103 regressions)\n",
            "57.85% (-15.50%) 'mrr@10'    score\t(39 improvements, 118 regressions)\n",
            "58.22% (-15.30%) 'mrr@15'    score\t(39 improvements, 118 regressions)\n",
            "58.36% (-15.20%) 'mrr@20'    score\t(39 improvements, 120 regressions)\n",
            "58.52% (-15.10%) 'mrr@25'    score\t(40 improvements, 121 regressions)\n",
            "58.60% (-15.02%) 'mrr@30'    score\t(40 improvements, 121 regressions)\n",
            "58.63% (-15.00%) 'mrr@35'    score\t(40 improvements, 121 regressions)\n",
            "58.67% (-14.98%) 'mrr@40'    score\t(40 improvements, 122 regressions)\n",
            "45.86% (-18.28%) 'recall@1'  score\t(18 improvements, 71 regressions)\n",
            "65.52% (-13.45%) 'recall@3'  score\t(13 improvements, 52 regressions)\n",
            "74.14% (-11.03%) 'recall@5'  score\t(14 improvements, 46 regressions)\n",
            "82.41% (-11.38%) 'recall@10' score\t(11 improvements, 44 regressions)\n",
            "87.24% (-08.62%) 'recall@15' score\t(6 improvements, 31 regressions)\n",
            "89.66% (-06.90%) 'recall@20' score\t(6 improvements, 26 regressions)\n",
            "93.45% (-04.48%) 'recall@25' score\t(4 improvements, 17 regressions)\n",
            "95.52% (-02.41%) 'recall@30' score\t(4 improvements, 11 regressions)\n",
            "96.55% (-01.72%) 'recall@35' score\t(3 improvements, 8 regressions)\n",
            "97.93% (-01.03%) 'recall@40' score\t(2 improvements, 5 regressions)\n",
            "\n",
            "8.15s (-1723.84%) 'duration'\t(290 improvements, 0 regressions)\n",
            "\n",
            "See results for 85944371-4b07-4c2b-a862-a6af7bbcfda5-none-hybrid-text-embedding-3-small at https://www.braintrust.dev/app/567/p/Text-2-SQL/experiments/85944371-4b07-4c2b-a862-a6af7bbcfda5-none-hybrid-text-embedding-3-small\n"
          ]
        },
        {
          "name": "stderr",
          "output_type": "stream",
          "text": [
            "Experiment 85944371-4b07-4c2b-a862-a6af7bbcfda5-none-hybrid-text-embedding-3-large is running at https://www.braintrust.dev/app/567/p/Text-2-SQL/experiments/85944371-4b07-4c2b-a862-a6af7bbcfda5-none-hybrid-text-embedding-3-large\n",
            "Text-2-SQL [experiment_name=85944371-4b07-4c2b-a862-a6af7bbcfda5-none-hybrid-text-embedding-3-large] (data): 290it [00:00, 48763.16it/s]\n"
          ]
        },
        {
          "data": {
            "application/vnd.jupyter.widget-view+json": {
              "model_id": "05e07608fb3346a499c12118b92725be",
              "version_major": 2,
              "version_minor": 0
            },
            "text/plain": [
              "Text-2-SQL [experiment_name=85944371-4b07-4c2b-a862-a6af7bbcfda5-none-hybrid-text-embedding-3-large] (tasks): …"
            ]
          },
          "metadata": {},
          "output_type": "display_data"
        },
        {
          "name": "stdout",
          "output_type": "stream",
          "text": [
            "\n",
            "=========================SUMMARY=========================\n",
            "85944371-4b07-4c2b-a862-a6af7bbcfda5-none-hybrid-text-embedding-3-large compared to 85944371-4b07-4c2b-a862-a6af7bbcfda5-none-hybrid-text-embedding-3-small:\n",
            "51.72% (+05.86%) 'mrr@1'     score\t(24 improvements, 7 regressions)\n",
            "60.11% (+05.46%) 'mrr@3'     score\t(47 improvements, 15 regressions)\n",
            "61.82% (+05.17%) 'mrr@5'     score\t(60 improvements, 20 regressions)\n",
            "63.06% (+05.21%) 'mrr@10'    score\t(71 improvements, 28 regressions)\n",
            "63.52% (+05.31%) 'mrr@15'    score\t(84 improvements, 30 regressions)\n",
            "63.64% (+05.28%) 'mrr@20'    score\t(89 improvements, 31 regressions)\n",
            "63.70% (+05.17%) 'mrr@25'    score\t(93 improvements, 32 regressions)\n",
            "63.72% (+05.12%) 'mrr@30'    score\t(94 improvements, 32 regressions)\n",
            "63.74% (+05.11%) 'mrr@35'    score\t(96 improvements, 32 regressions)\n",
            "63.76% (+05.10%) 'mrr@40'    score\t(97 improvements, 33 regressions)\n",
            "51.72% (+05.86%) 'recall@1'  score\t(24 improvements, 7 regressions)\n",
            "70.69% (+05.17%) 'recall@3'  score\t(24 improvements, 9 regressions)\n",
            "78.28% (+04.14%) 'recall@5'  score\t(21 improvements, 9 regressions)\n",
            "87.24% (+04.83%) 'recall@10' score\t(19 improvements, 5 regressions)\n",
            "93.45% (+06.21%) 'recall@15' score\t(20 improvements, 2 regressions)\n",
            "95.52% (+05.86%) 'recall@20' score\t(19 improvements, 2 regressions)\n",
            "96.90% (+03.45%) 'recall@25' score\t(13 improvements, 3 regressions)\n",
            "97.59% (+02.07%) 'recall@30' score\t(8 improvements, 2 regressions)\n",
            "98.28% (+01.72%) 'recall@35' score\t(7 improvements, 2 regressions)\n",
            "98.97% (+01.03%) 'recall@40' score\t(5 improvements, 2 regressions)\n",
            "\n",
            "12.89s (+473.87%) 'duration'\t(0 improvements, 290 regressions)\n",
            "\n",
            "See results for 85944371-4b07-4c2b-a862-a6af7bbcfda5-none-hybrid-text-embedding-3-large at https://www.braintrust.dev/app/567/p/Text-2-SQL/experiments/85944371-4b07-4c2b-a862-a6af7bbcfda5-none-hybrid-text-embedding-3-large\n"
          ]
        },
        {
          "name": "stderr",
          "output_type": "stream",
          "text": [
            "Experiment 85944371-4b07-4c2b-a862-a6af7bbcfda5-none-vector-text-embedding-3-small is running at https://www.braintrust.dev/app/567/p/Text-2-SQL/experiments/85944371-4b07-4c2b-a862-a6af7bbcfda5-none-vector-text-embedding-3-small\n",
            "Text-2-SQL [experiment_name=85944371-4b07-4c2b-a862-a6af7bbcfda5-none-vector-text-embedding-3-small] (data): 290it [00:00, 43116.10it/s]\n"
          ]
        },
        {
          "data": {
            "application/vnd.jupyter.widget-view+json": {
              "model_id": "12abb279ca9440ab90c978d574198ebb",
              "version_major": 2,
              "version_minor": 0
            },
            "text/plain": [
              "Text-2-SQL [experiment_name=85944371-4b07-4c2b-a862-a6af7bbcfda5-none-vector-text-embedding-3-small] (tasks): …"
            ]
          },
          "metadata": {},
          "output_type": "display_data"
        },
        {
          "name": "stdout",
          "output_type": "stream",
          "text": [
            "\n",
            "=========================SUMMARY=========================\n",
            "85944371-4b07-4c2b-a862-a6af7bbcfda5-none-vector-text-embedding-3-small compared to 85944371-4b07-4c2b-a862-a6af7bbcfda5-none-hybrid-text-embedding-3-large:\n",
            "46.21% (-05.52%) 'mrr@1'     score\t(40 improvements, 56 regressions)\n",
            "58.39% (-01.72%) 'mrr@3'     score\t(65 improvements, 76 regressions)\n",
            "59.79% (-02.03%) 'mrr@5'     score\t(70 improvements, 82 regressions)\n",
            "61.36% (-01.70%) 'mrr@10'    score\t(82 improvements, 90 regressions)\n",
            "61.71% (-01.81%) 'mrr@15'    score\t(86 improvements, 90 regressions)\n",
            "61.81% (-01.83%) 'mrr@20'    score\t(88 improvements, 91 regressions)\n",
            "61.86% (-01.84%) 'mrr@25'    score\t(89 improvements, 93 regressions)\n",
            "61.88% (-01.84%) 'mrr@30'    score\t(89 improvements, 93 regressions)\n",
            "61.88% (-01.86%) 'mrr@35'    score\t(89 improvements, 93 regressions)\n",
            "61.88% (-01.88%) 'mrr@40'    score\t(89 improvements, 94 regressions)\n",
            "46.21% (-05.52%) 'recall@1'  score\t(40 improvements, 56 regressions)\n",
            "73.45% (+02.76%) 'recall@3'  score\t(38 improvements, 30 regressions)\n",
            "79.31% (+01.03%) 'recall@5'  score\t(30 improvements, 27 regressions)\n",
            "90.69% (+03.45%) 'recall@10' score\t(24 improvements, 14 regressions)\n",
            "95.17% (+01.72%) 'recall@15' score\t(11 improvements, 6 regressions)\n",
            "96.90% (+01.38%) 'recall@20' score\t(8 improvements, 4 regressions)\n",
            "97.93% (+01.03%) 'recall@25' score\t(7 improvements, 4 regressions)\n",
            "98.62% (+01.03%) 'recall@30' score\t(5 improvements, 2 regressions)\n",
            "98.62% (+00.34%) 'recall@35' score\t(3 improvements, 2 regressions)\n",
            "98.62% (-00.34%) 'recall@40' score\t(2 improvements, 3 regressions)\n",
            "\n",
            "7.82s (-507.04%) 'duration'\t(278 improvements, 12 regressions)\n",
            "\n",
            "See results for 85944371-4b07-4c2b-a862-a6af7bbcfda5-none-vector-text-embedding-3-small at https://www.braintrust.dev/app/567/p/Text-2-SQL/experiments/85944371-4b07-4c2b-a862-a6af7bbcfda5-none-vector-text-embedding-3-small\n"
          ]
        },
        {
          "name": "stderr",
          "output_type": "stream",
          "text": [
            "Experiment 85944371-4b07-4c2b-a862-a6af7bbcfda5-none-vector-text-embedding-3-large is running at https://www.braintrust.dev/app/567/p/Text-2-SQL/experiments/85944371-4b07-4c2b-a862-a6af7bbcfda5-none-vector-text-embedding-3-large\n",
            "Text-2-SQL [experiment_name=85944371-4b07-4c2b-a862-a6af7bbcfda5-none-vector-text-embedding-3-large] (data): 290it [00:00, 73946.63it/s]\n"
          ]
        },
        {
          "data": {
            "application/vnd.jupyter.widget-view+json": {
              "model_id": "7a7729d41aff4e349956bf5e8662adba",
              "version_major": 2,
              "version_minor": 0
            },
            "text/plain": [
              "Text-2-SQL [experiment_name=85944371-4b07-4c2b-a862-a6af7bbcfda5-none-vector-text-embedding-3-large] (tasks): …"
            ]
          },
          "metadata": {},
          "output_type": "display_data"
        },
        {
          "name": "stdout",
          "output_type": "stream",
          "text": [
            "\n",
            "=========================SUMMARY=========================\n",
            "85944371-4b07-4c2b-a862-a6af7bbcfda5-none-vector-text-embedding-3-large compared to 85944371-4b07-4c2b-a862-a6af7bbcfda5-none-vector-text-embedding-3-small:\n",
            "70.69% (+24.48%) 'mrr@1'     score\t(86 improvements, 15 regressions)\n",
            "77.24% (+18.85%) 'mrr@3'     score\t(111 improvements, 27 regressions)\n",
            "78.26% (+18.47%) 'mrr@5'     score\t(115 improvements, 28 regressions)\n",
            "79.15% (+17.79%) 'mrr@10'    score\t(126 improvements, 33 regressions)\n",
            "79.25% (+17.54%) 'mrr@15'    score\t(127 improvements, 33 regressions)\n",
            "79.31% (+17.50%) 'mrr@20'    score\t(128 improvements, 34 regressions)\n",
            "79.37% (+17.52%) 'mrr@25'    score\t(129 improvements, 34 regressions)\n",
            "79.37% (+17.49%) 'mrr@30'    score\t(129 improvements, 34 regressions)\n",
            "79.37% (+17.49%) 'mrr@35'    score\t(129 improvements, 34 regressions)\n",
            "79.38% (+17.50%) 'mrr@40'    score\t(130 improvements, 34 regressions)\n",
            "70.69% (+24.48%) 'recall@1'  score\t(86 improvements, 15 regressions)\n",
            "85.17% (+11.72%) 'recall@3'  score\t(49 improvements, 15 regressions)\n",
            "89.66% (+10.34%) 'recall@5'  score\t(38 improvements, 8 regressions)\n",
            "95.86% (+05.17%) 'recall@10' score\t(22 improvements, 7 regressions)\n",
            "97.24% (+02.07%) 'recall@15' score\t(10 improvements, 4 regressions)\n",
            "98.28% (+01.38%) 'recall@20' score\t(7 improvements, 3 regressions)\n",
            "99.66% (+01.72%) 'recall@25' score\t(5 improvements, 0 regressions)\n",
            "99.66% (+01.03%) 'recall@30' score\t(3 improvements, 0 regressions)\n",
            "99.66% (+01.03%) 'recall@35' score\t(3 improvements, 0 regressions)\n",
            "100.00% (+01.38%) 'recall@40' score\t(4 improvements, 0 regressions)\n",
            "\n",
            "12.63s (+480.54%) 'duration'\t(28 improvements, 262 regressions)\n",
            "\n",
            "See results for 85944371-4b07-4c2b-a862-a6af7bbcfda5-none-vector-text-embedding-3-large at https://www.braintrust.dev/app/567/p/Text-2-SQL/experiments/85944371-4b07-4c2b-a862-a6af7bbcfda5-none-vector-text-embedding-3-large\n"
          ]
        }
      ],
      "source": [
        "from braintrust import init_dataset, Eval\n",
        "from itertools import product\n",
        "import uuid\n",
        "\n",
        "\n",
        "# Load subset of evaluation queries\n",
        "evaluation_queries = [\n",
        "    item for item in init_dataset(project=\"Text-2-SQL\", name=\"Bird-Bench-Questions\")\n",
        "]\n",
        "\n",
        "# Evaluation configurations\n",
        "available_rerankers = {\n",
        "    \"rerank-english-v3.0\": CohereReranker(\n",
        "        model_name=\"rerank-english-v3.0\", column=\"query\"\n",
        "    ),\n",
        "    \"none\": None,\n",
        "}\n",
        "\n",
        "search_query_modes = [\"hybrid\", \"vector\"]\n",
        "\n",
        "embedding_model_to_table = {\n",
        "    \"text-embedding-3-small\": table_small,\n",
        "    \"text-embedding-3-large\": table_large,\n",
        "}\n",
        "\n",
        "# Run evaluations\n",
        "evaluation_results = []\n",
        "experiment_id = str(uuid.uuid4())\n",
        "for reranker_name, search_mode, embedding_model in product(\n",
        "    available_rerankers, search_query_modes, embedding_model_to_table\n",
        "):\n",
        "    # Get model instances\n",
        "    current_reranker = available_rerankers[reranker_name]\n",
        "    current_table = embedding_model_to_table[embedding_model]\n",
        "\n",
        "    # Configure retrieval size\n",
        "    retrieval_limit = 120 if current_reranker else 40\n",
        "\n",
        "    # Run evaluation\n",
        "    benchmark_result = await Eval(\n",
        "        name=\"Text-2-SQL\",\n",
        "        experiment_name=f\"{experiment_id}-{reranker_name}-{search_mode}-{embedding_model}\",\n",
        "        task=lambda query: retrieve(\n",
        "            question=query,\n",
        "            max_k=retrieval_limit,\n",
        "            table=current_table,\n",
        "            mode=search_mode,\n",
        "            reranker=current_reranker,\n",
        "        ),\n",
        "        data=evaluation_queries,\n",
        "        scores=[evaluate_braintrust],\n",
        "        metadata={\n",
        "            \"embedding_model\": embedding_model,\n",
        "            \"reranker\": reranker_name,\n",
        "            \"query_mode\": search_mode,\n",
        "            \"retrieval_limit\": retrieval_limit,\n",
        "        },\n",
        "    )\n",
        "\n",
        "    # Process benchmark results\n",
        "    performance_scores = benchmark_result.summary.scores\n",
        "    for metric_name, score_data in performance_scores.items():\n",
        "        metric_type, top_k = metric_name.split(\"@\")\n",
        "        evaluation_results.append(\n",
        "            {\n",
        "                \"metric\": metric_type,\n",
        "                \"k\": int(top_k),\n",
        "                \"reranker\": reranker_name,\n",
        "                \"embedding_model\": embedding_model,\n",
        "                \"query_type\": search_mode,\n",
        "                \"score\": score_data.score,\n",
        "            }\n",
        "        )"
      ]
    },
    {
      "cell_type": "markdown",
      "metadata": {
        "id": "FB-oPTxElYxw"
      },
      "source": [
        "## Comparing Different Methods\n",
        "\n",
        "When comparing different methods, it's important to consider the trade offs between them. We want to see how each method performs with respect to recall and MRR.\n",
        "\n",
        "In this portion, we'll look at how we can do so by two comparisons\n",
        "\n",
        "1. Comparing the performance of the `text-embedding-3-small` and `text-embedding-3-large` models with respect to recall and MRR\n",
        "2. Comparing the performance of a re-ranker as we change the `k` muliplier\n"
      ]
    },
    {
      "cell_type": "markdown",
      "metadata": {
        "id": "qWfj5ViglYxw"
      },
      "source": [
        "### Organising Your Data in a Tidy Format\n",
        "\n",
        "When we change or add experiment parameters, we want to minimize changes to our code. This makes it easier to test different configurations so we can make informed decisions about which method to use.\n",
        "\n",
        "Let's look at two different ways that we could have organised our data above.\n",
        "\n",
        "| Method           | MRR@1 | MRR@3 | MRR@5 | Recall@1 | Recall@3 | Recall@5 |\n",
        "| ---------------- | ----- | ----- | ----- | -------- | -------- | -------- |\n",
        "| Hybrid Search    | 0.1   | 0.3   | 0.4   | 0.1      | 0.7      | 0.8      |\n",
        "| Embedding Search | 0.1   | 0.3   | 0.4   | 0.1      | 0.7      | 0.8      |\n",
        "\n",
        "If we want to add a new metric like MRR@10, we'd have to add a new column to this table. This makes it tricky to plot results, perform calculations and update downstream code that relies on this table. That's a lot of effort for a small change that impacts our ability to perform experiments and comparisons quickly. That's why we need to use a tidy format ( Read more about it [here](https://kiwidamien.github.io/what-is-tidy-data.html)).\n",
        "\n",
        "In a tidy format\n",
        "\n",
        "1. Each column represents a single variable\n",
        "2. Each row represents a single observation\n",
        "\n",
        "For our experiments above, this looks something like this where we have a single row per metric calculated and we can see the parameters used to calculate it. More importantly, adding a new metric ( eg. MRR@10 ) is as easy as adding a new row.\n",
        "\n",
        "| Method        | Metric | k   | use_reranker | embedding_model        | score |\n",
        "| ------------- | ------ | --- | ------------ | ---------------------- | ----- |\n",
        "| Hybrid Search | MRR    | 1   | False        | text-embedding-3-small | 0.1   |\n",
        "| Hybrid Search | MRR    | 3   | False        | text-embedding-3-small | 0.3   |\n",
        "| Hybrid Search | MRR    | 5   | False        | text-embedding-3-small | 0.4   |\n",
        "| Hybrid Search | Recall | 1   | False        | text-embedding-3-small | 0.1   |\n",
        "| Hybrid Search | Recall | 3   | False        | text-embedding-3-small | 0.7   |\n",
        "| Hybrid Search | Recall | 5   | False        | text-embedding-3-small | 0.8   |\n",
        "\n",
        "We can see how we've done so below when we load in the data as a pandas dataframe.\n"
      ]
    },
    {
      "cell_type": "code",
      "execution_count": null,
      "metadata": {
        "id": "f5W1srPzlYxw",
        "outputId": "73551521-fb7d-40c8-cd84-770a21970fa5"
      },
      "outputs": [
        {
          "data": {
            "text/html": [
              "<div>\n",
              "<style scoped>\n",
              "    .dataframe tbody tr th:only-of-type {\n",
              "        vertical-align: middle;\n",
              "    }\n",
              "\n",
              "    .dataframe tbody tr th {\n",
              "        vertical-align: top;\n",
              "    }\n",
              "\n",
              "    .dataframe thead th {\n",
              "        text-align: right;\n",
              "    }\n",
              "</style>\n",
              "<table border=\"1\" class=\"dataframe\">\n",
              "  <thead>\n",
              "    <tr style=\"text-align: right;\">\n",
              "      <th></th>\n",
              "      <th>metric</th>\n",
              "      <th>k</th>\n",
              "      <th>reranker</th>\n",
              "      <th>embedding_model</th>\n",
              "      <th>query_type</th>\n",
              "      <th>score</th>\n",
              "    </tr>\n",
              "  </thead>\n",
              "  <tbody>\n",
              "    <tr>\n",
              "      <th>0</th>\n",
              "      <td>mrr</td>\n",
              "      <td>1</td>\n",
              "      <td>rerank-english-v3.0</td>\n",
              "      <td>text-embedding-3-small</td>\n",
              "      <td>hybrid</td>\n",
              "      <td>0.575000</td>\n",
              "    </tr>\n",
              "    <tr>\n",
              "      <th>1</th>\n",
              "      <td>mrr</td>\n",
              "      <td>3</td>\n",
              "      <td>rerank-english-v3.0</td>\n",
              "      <td>text-embedding-3-small</td>\n",
              "      <td>hybrid</td>\n",
              "      <td>0.616667</td>\n",
              "    </tr>\n",
              "    <tr>\n",
              "      <th>2</th>\n",
              "      <td>mrr</td>\n",
              "      <td>5</td>\n",
              "      <td>rerank-english-v3.0</td>\n",
              "      <td>text-embedding-3-small</td>\n",
              "      <td>hybrid</td>\n",
              "      <td>0.637917</td>\n",
              "    </tr>\n",
              "    <tr>\n",
              "      <th>3</th>\n",
              "      <td>mrr</td>\n",
              "      <td>10</td>\n",
              "      <td>rerank-english-v3.0</td>\n",
              "      <td>text-embedding-3-small</td>\n",
              "      <td>hybrid</td>\n",
              "      <td>0.658571</td>\n",
              "    </tr>\n",
              "    <tr>\n",
              "      <th>4</th>\n",
              "      <td>mrr</td>\n",
              "      <td>15</td>\n",
              "      <td>rerank-english-v3.0</td>\n",
              "      <td>text-embedding-3-small</td>\n",
              "      <td>hybrid</td>\n",
              "      <td>0.660655</td>\n",
              "    </tr>\n",
              "    <tr>\n",
              "      <th>...</th>\n",
              "      <td>...</td>\n",
              "      <td>...</td>\n",
              "      <td>...</td>\n",
              "      <td>...</td>\n",
              "      <td>...</td>\n",
              "      <td>...</td>\n",
              "    </tr>\n",
              "    <tr>\n",
              "      <th>155</th>\n",
              "      <td>recall</td>\n",
              "      <td>20</td>\n",
              "      <td>none</td>\n",
              "      <td>text-embedding-3-large</td>\n",
              "      <td>vector</td>\n",
              "      <td>1.000000</td>\n",
              "    </tr>\n",
              "    <tr>\n",
              "      <th>156</th>\n",
              "      <td>recall</td>\n",
              "      <td>25</td>\n",
              "      <td>none</td>\n",
              "      <td>text-embedding-3-large</td>\n",
              "      <td>vector</td>\n",
              "      <td>1.000000</td>\n",
              "    </tr>\n",
              "    <tr>\n",
              "      <th>157</th>\n",
              "      <td>recall</td>\n",
              "      <td>30</td>\n",
              "      <td>none</td>\n",
              "      <td>text-embedding-3-large</td>\n",
              "      <td>vector</td>\n",
              "      <td>1.000000</td>\n",
              "    </tr>\n",
              "    <tr>\n",
              "      <th>158</th>\n",
              "      <td>recall</td>\n",
              "      <td>35</td>\n",
              "      <td>none</td>\n",
              "      <td>text-embedding-3-large</td>\n",
              "      <td>vector</td>\n",
              "      <td>1.000000</td>\n",
              "    </tr>\n",
              "    <tr>\n",
              "      <th>159</th>\n",
              "      <td>recall</td>\n",
              "      <td>40</td>\n",
              "      <td>none</td>\n",
              "      <td>text-embedding-3-large</td>\n",
              "      <td>vector</td>\n",
              "      <td>1.000000</td>\n",
              "    </tr>\n",
              "  </tbody>\n",
              "</table>\n",
              "<p>160 rows × 6 columns</p>\n",
              "</div>"
            ],
            "text/plain": [
              "     metric   k             reranker         embedding_model query_type  \\\n",
              "0       mrr   1  rerank-english-v3.0  text-embedding-3-small     hybrid   \n",
              "1       mrr   3  rerank-english-v3.0  text-embedding-3-small     hybrid   \n",
              "2       mrr   5  rerank-english-v3.0  text-embedding-3-small     hybrid   \n",
              "3       mrr  10  rerank-english-v3.0  text-embedding-3-small     hybrid   \n",
              "4       mrr  15  rerank-english-v3.0  text-embedding-3-small     hybrid   \n",
              "..      ...  ..                  ...                     ...        ...   \n",
              "155  recall  20                 none  text-embedding-3-large     vector   \n",
              "156  recall  25                 none  text-embedding-3-large     vector   \n",
              "157  recall  30                 none  text-embedding-3-large     vector   \n",
              "158  recall  35                 none  text-embedding-3-large     vector   \n",
              "159  recall  40                 none  text-embedding-3-large     vector   \n",
              "\n",
              "        score  \n",
              "0    0.575000  \n",
              "1    0.616667  \n",
              "2    0.637917  \n",
              "3    0.658571  \n",
              "4    0.660655  \n",
              "..        ...  \n",
              "155  1.000000  \n",
              "156  1.000000  \n",
              "157  1.000000  \n",
              "158  1.000000  \n",
              "159  1.000000  \n",
              "\n",
              "[160 rows x 6 columns]"
            ]
          },
          "execution_count": 22,
          "metadata": {},
          "output_type": "execute_result"
        }
      ],
      "source": [
        "import pandas as pd\n",
        "\n",
        "df = pd.DataFrame(evaluation_results)\n",
        "df"
      ]
    },
    {
      "cell_type": "markdown",
      "metadata": {
        "id": "TO8__nFXlYxx"
      },
      "source": [
        "### Comparing Embedding models\n",
        "\n",
        "We want to compare the two embedding models with respect to recall and MRR. We expect that the larger model will outperform the smaller model.\n",
        "\n",
        "An easy way to visualise this is to plot the recall and MRR for each embedding model. This allows us to see the performance of each model with respect to recall and MRR.\n"
      ]
    },
    {
      "cell_type": "code",
      "execution_count": null,
      "metadata": {
        "id": "CLH8YlJQlYxx",
        "outputId": "ea18649d-457d-4972-e3e3-b44e7b4d5a75"
      },
      "outputs": [
        {
          "data": {
            "image/png": "[encoded data removed]",
            "text/plain": [
              "<Figure size 2000x600 with 2 Axes>"
            ]
          },
          "metadata": {},
          "output_type": "display_data"
        }
      ],
      "source": [
        "import matplotlib.pyplot as plt\n",
        "\n",
        "# Create figure with two subplots\n",
        "fig, (ax1, ax2) = plt.subplots(1, 2, figsize=(20, 6))\n",
        "\n",
        "# Plot recall for hybrid search\n",
        "hybrid_data = df[(df[\"metric\"] == \"recall\") & (df[\"query_type\"] == \"hybrid\")]\n",
        "for model in sorted(df[\"embedding_model\"].unique()):\n",
        "    for reranker in sorted(df[\"reranker\"].unique()):\n",
        "        data = hybrid_data[\n",
        "            (hybrid_data[\"reranker\"] == reranker)\n",
        "            & (hybrid_data[\"embedding_model\"] == model)\n",
        "        ]\n",
        "        if len(data) > 0:\n",
        "            marker = \"o\" if reranker != \"none\" else \"^\"\n",
        "            ax1.plot(\n",
        "                data[\"k\"], data[\"score\"], marker=marker, label=f\"{model}\\n{reranker}\"\n",
        "            )\n",
        "\n",
        "ax1.set_title(\"Recall@k for Hybrid Search\")\n",
        "ax1.set_xlabel(\"k\")\n",
        "ax1.set_ylabel(\"Recall\")\n",
        "ax1.grid(True)\n",
        "ax1.legend(bbox_to_anchor=(1.05, 1), loc=\"upper left\")\n",
        "\n",
        "# Plot recall for vector search\n",
        "vector_data = df[(df[\"metric\"] == \"recall\") & (df[\"query_type\"] == \"vector\")]\n",
        "for model in sorted(df[\"embedding_model\"].unique()):\n",
        "    for reranker in sorted(df[\"reranker\"].unique()):\n",
        "        data = vector_data[\n",
        "            (vector_data[\"reranker\"] == reranker)\n",
        "            & (vector_data[\"embedding_model\"] == model)\n",
        "        ]\n",
        "        if len(data) > 0:\n",
        "            marker = \"o\" if reranker != \"none\" else \"^\"\n",
        "            ax2.plot(\n",
        "                data[\"k\"], data[\"score\"], marker=marker, label=f\"{model}\\n{reranker}\"\n",
        "            )\n",
        "\n",
        "ax2.set_title(\"Recall@k for Vector Search\")\n",
        "ax2.set_xlabel(\"k\")\n",
        "ax2.set_ylabel(\"Recall\")\n",
        "ax2.grid(True)\n",
        "ax2.legend(bbox_to_anchor=(1.05, 1), loc=\"upper left\")\n",
        "\n",
        "plt.tight_layout()\n",
        "plt.show()"
      ]
    },
    {
      "cell_type": "markdown",
      "metadata": {
        "id": "XFmd5348lYxx"
      },
      "source": [
        "Based off the results above, we can see that text-embedding-3-large outperforms text-embedding-3-small for vector search while having a similar MRR and Recall@k for hybrid search.\n",
        "\n",
        "With vector search, we can see that the `text-embedding-3-large` model achieves perfect recall at k=15 while a reranker only does so at k=35. We see a similar trend in hybrid search where the `text-embedding-3-large` model achieves perfect recall at k=30 while a reranker only does so at k=40.\n",
        "\n",
        "With Hybrid Search, we can see that the `text-embedding-3-large` model achieves perfect recall at k=30 while a reranker only does so at k=40. From k=15, the `text-embedding-3-large` model outperforms or matches the reranker in terms of recall.\n",
        "\n",
        "This suggests that for this specific set of questions\n",
        "\n",
        "1. Embeddings search alone should be sufficient for our retrieval needs\n",
        "2. A re-ranker might not be necessary for our application's initial deployment.\n",
        "\n",
        "But this is something we wouldn't have been able to determine without running a set of experiments. Let's see another example below where we vary the number of items we pass into the re-ranker.\n"
      ]
    },
    {
      "cell_type": "markdown",
      "metadata": {
        "id": "YSMzvgz-lYxx"
      },
      "source": [
        "### How many items should we pass into the re-ranker?\n",
        "\n",
        "We want to know how the performance of the re-ranker changes as we vary the number of items passed into it. This is important because the more items we pass into the re-ranker, the higher the latency.\n",
        "\n",
        "Therefore, if we can get a good recall@k with a smaller `k`, we should choose that method. Let's modify our earlier code to support this.\n",
        "\n",
        "We'll be using the text-embedding-3-small model for this experiment with vector search.\n"
      ]
    },
    {
      "cell_type": "code",
      "execution_count": null,
      "metadata": {
        "id": "EyW1SAq5lYxx",
        "outputId": "4af458f8-6e04-472c-ee3c-639755c4acf9",
        "colab": {
          "referenced_widgets": [
            "1e028d3ded2246a39117a836228b2ee3",
            "e1e967c515bd4251acff49b63785d4cb",
            "6bd18989827c4305becb9c76c41d7bd6"
          ]
        }
      },
      "outputs": [
        {
          "name": "stderr",
          "output_type": "stream",
          "text": [
            "Experiment reranker-k-comparison-40-88e6c54e-23bb-4f32-840d-f4e817eb3b2e is running at https://www.braintrust.dev/app/567/p/Text-2-SQL/experiments/reranker-k-comparison-40-88e6c54e-23bb-4f32-840d-f4e817eb3b2e\n",
            "Text-2-SQL [experiment_name=reranker-k-comparison-40-88e6c54e-23bb-4f32-840d-f4e817eb3b2e] (data): 290it [00:00, 44718.68it/s]\n"
          ]
        },
        {
          "data": {
            "application/vnd.jupyter.widget-view+json": {
              "model_id": "1e028d3ded2246a39117a836228b2ee3",
              "version_major": 2,
              "version_minor": 0
            },
            "text/plain": [
              "Text-2-SQL [experiment_name=reranker-k-comparison-40-88e6c54e-23bb-4f32-840d-f4e817eb3b2e] (tasks):   0%|     …"
            ]
          },
          "metadata": {},
          "output_type": "display_data"
        },
        {
          "name": "stdout",
          "output_type": "stream",
          "text": [
            "\n",
            "=========================SUMMARY=========================\n",
            "reranker-k-comparison-40-88e6c54e-23bb-4f32-840d-f4e817eb3b2e compared to reranker-k-comparison-120-4037f755-d4f3-4aa1-8731-33a6452286f3:\n",
            "65.86% (+02.00%) 'mrr@1'     score\t(2 improvements, 0 regressions)\n",
            "71.95% (+01.50%) 'mrr@3'     score\t(5 improvements, 0 regressions)\n",
            "73.66% (+02.05%) 'mrr@5'     score\t(9 improvements, 0 regressions)\n",
            "74.79% (+02.00%) 'mrr@10'    score\t(11 improvements, 0 regressions)\n",
            "74.96% (+01.85%) 'mrr@15'    score\t(11 improvements, 0 regressions)\n",
            "74.96% (+01.85%) 'mrr@20'    score\t(11 improvements, 0 regressions)\n",
            "75.00% (+01.81%) 'mrr@25'    score\t(12 improvements, 1 regressions)\n",
            "75.00% (+01.81%) 'mrr@30'    score\t(12 improvements, 1 regressions)\n",
            "75.02% (+01.81%) 'mrr@35'    score\t(13 improvements, 1 regressions)\n",
            "75.02% (+01.81%) 'mrr@40'    score\t(13 improvements, 1 regressions)\n",
            "65.86% (+02.00%) 'recall@1'  score\t(2 improvements, 0 regressions)\n",
            "79.31% (-) 'recall@3'  score\t(0 improvements, 0 regressions)\n",
            "86.55% (+02.00%) 'recall@5'  score\t(2 improvements, 0 regressions)\n",
            "94.83% (+02.00%) 'recall@10' score\t(2 improvements, 0 regressions)\n",
            "96.90% (-) 'recall@15' score\t(0 improvements, 0 regressions)\n",
            "96.90% (-) 'recall@20' score\t(0 improvements, 0 regressions)\n",
            "97.93% (-01.00%) 'recall@25' score\t(0 improvements, 1 regressions)\n",
            "97.93% (-01.00%) 'recall@30' score\t(0 improvements, 1 regressions)\n",
            "98.62% (-01.00%) 'recall@35' score\t(0 improvements, 1 regressions)\n",
            "98.62% (-01.00%) 'recall@40' score\t(0 improvements, 1 regressions)\n",
            "\n",
            "14.43s (-76.70%) 'duration'\t(77 improvements, 23 regressions)\n",
            "\n",
            "See results for reranker-k-comparison-40-88e6c54e-23bb-4f32-840d-f4e817eb3b2e at https://www.braintrust.dev/app/567/p/Text-2-SQL/experiments/reranker-k-comparison-40-88e6c54e-23bb-4f32-840d-f4e817eb3b2e\n"
          ]
        },
        {
          "name": "stderr",
          "output_type": "stream",
          "text": [
            "Experiment reranker-k-comparison-80-88e6c54e-23bb-4f32-840d-f4e817eb3b2e is running at https://www.braintrust.dev/app/567/p/Text-2-SQL/experiments/reranker-k-comparison-80-88e6c54e-23bb-4f32-840d-f4e817eb3b2e\n",
            "Text-2-SQL [experiment_name=reranker-k-comparison-80-88e6c54e-23bb-4f32-840d-f4e817eb3b2e] (data): 290it [00:00, 42347.53it/s]\n"
          ]
        },
        {
          "data": {
            "application/vnd.jupyter.widget-view+json": {
              "model_id": "e1e967c515bd4251acff49b63785d4cb",
              "version_major": 2,
              "version_minor": 0
            },
            "text/plain": [
              "Text-2-SQL [experiment_name=reranker-k-comparison-80-88e6c54e-23bb-4f32-840d-f4e817eb3b2e] (tasks):   0%|     …"
            ]
          },
          "metadata": {},
          "output_type": "display_data"
        },
        {
          "name": "stdout",
          "output_type": "stream",
          "text": [
            "\n",
            "=========================SUMMARY=========================\n",
            "reranker-k-comparison-80-88e6c54e-23bb-4f32-840d-f4e817eb3b2e compared to reranker-k-comparison-40-88e6c54e-23bb-4f32-840d-f4e817eb3b2e:\n",
            "64.14% (-01.72%) 'mrr@1'     score\t(0 improvements, 5 regressions)\n",
            "70.80% (-01.15%) 'mrr@3'     score\t(0 improvements, 8 regressions)\n",
            "72.30% (-01.36%) 'mrr@5'     score\t(0 improvements, 15 regressions)\n",
            "73.53% (-01.25%) 'mrr@10'    score\t(1 improvements, 21 regressions)\n",
            "73.67% (-01.29%) 'mrr@15'    score\t(1 improvements, 25 regressions)\n",
            "73.73% (-01.23%) 'mrr@20'    score\t(2 improvements, 25 regressions)\n",
            "73.76% (-01.24%) 'mrr@25'    score\t(2 improvements, 27 regressions)\n",
            "73.76% (-01.24%) 'mrr@30'    score\t(2 improvements, 27 regressions)\n",
            "73.79% (-01.23%) 'mrr@35'    score\t(3 improvements, 29 regressions)\n",
            "73.81% (-01.21%) 'mrr@40'    score\t(3 improvements, 29 regressions)\n",
            "64.14% (-01.72%) 'recall@1'  score\t(0 improvements, 5 regressions)\n",
            "78.97% (-00.34%) 'recall@3'  score\t(0 improvements, 1 regressions)\n",
            "85.52% (-01.03%) 'recall@5'  score\t(0 improvements, 3 regressions)\n",
            "94.48% (-00.34%) 'recall@10' score\t(1 improvements, 2 regressions)\n",
            "96.21% (-00.69%) 'recall@15' score\t(1 improvements, 3 regressions)\n",
            "97.24% (+00.34%) 'recall@20' score\t(2 improvements, 1 regressions)\n",
            "97.93% (-) 'recall@25' score\t(2 improvements, 2 regressions)\n",
            "97.93% (-) 'recall@30' score\t(2 improvements, 2 regressions)\n",
            "98.97% (+00.34%) 'recall@35' score\t(3 improvements, 2 regressions)\n",
            "99.66% (+01.03%) 'recall@40' score\t(3 improvements, 0 regressions)\n",
            "\n",
            "15.44s (+100.67%) 'duration'\t(49 improvements, 241 regressions)\n",
            "\n",
            "See results for reranker-k-comparison-80-88e6c54e-23bb-4f32-840d-f4e817eb3b2e at https://www.braintrust.dev/app/567/p/Text-2-SQL/experiments/reranker-k-comparison-80-88e6c54e-23bb-4f32-840d-f4e817eb3b2e\n"
          ]
        },
        {
          "name": "stderr",
          "output_type": "stream",
          "text": [
            "Experiment reranker-k-comparison-120-88e6c54e-23bb-4f32-840d-f4e817eb3b2e is running at https://www.braintrust.dev/app/567/p/Text-2-SQL/experiments/reranker-k-comparison-120-88e6c54e-23bb-4f32-840d-f4e817eb3b2e\n",
            "Text-2-SQL [experiment_name=reranker-k-comparison-120-88e6c54e-23bb-4f32-840d-f4e817eb3b2e] (data): 290it [00:00, 51262.14it/s]\n"
          ]
        },
        {
          "data": {
            "application/vnd.jupyter.widget-view+json": {
              "model_id": "6bd18989827c4305becb9c76c41d7bd6",
              "version_major": 2,
              "version_minor": 0
            },
            "text/plain": [
              "Text-2-SQL [experiment_name=reranker-k-comparison-120-88e6c54e-23bb-4f32-840d-f4e817eb3b2e] (tasks):   0%|    …"
            ]
          },
          "metadata": {},
          "output_type": "display_data"
        },
        {
          "name": "stdout",
          "output_type": "stream",
          "text": [
            "\n",
            "=========================SUMMARY=========================\n",
            "reranker-k-comparison-120-88e6c54e-23bb-4f32-840d-f4e817eb3b2e compared to reranker-k-comparison-80-88e6c54e-23bb-4f32-840d-f4e817eb3b2e:\n",
            "64.14% (-) 'mrr@1'     score\t(0 improvements, 0 regressions)\n",
            "70.75% (-00.06%) 'mrr@3'     score\t(0 improvements, 1 regressions)\n",
            "72.14% (-00.16%) 'mrr@5'     score\t(0 improvements, 4 regressions)\n",
            "73.38% (-00.15%) 'mrr@10'    score\t(0 improvements, 6 regressions)\n",
            "73.50% (-00.17%) 'mrr@15'    score\t(0 improvements, 9 regressions)\n",
            "73.56% (-00.17%) 'mrr@20'    score\t(0 improvements, 12 regressions)\n",
            "73.62% (-00.14%) 'mrr@25'    score\t(0 improvements, 13 regressions)\n",
            "73.62% (-00.14%) 'mrr@30'    score\t(0 improvements, 13 regressions)\n",
            "73.63% (-00.16%) 'mrr@35'    score\t(0 improvements, 16 regressions)\n",
            "73.64% (-00.17%) 'mrr@40'    score\t(0 improvements, 18 regressions)\n",
            "64.14% (-) 'recall@1'  score\t(0 improvements, 0 regressions)\n",
            "78.97% (-) 'recall@3'  score\t(0 improvements, 0 regressions)\n",
            "85.17% (-00.34%) 'recall@5'  score\t(0 improvements, 1 regressions)\n",
            "94.14% (-00.34%) 'recall@10' score\t(0 improvements, 1 regressions)\n",
            "95.52% (-00.69%) 'recall@15' score\t(0 improvements, 2 regressions)\n",
            "96.55% (-00.69%) 'recall@20' score\t(0 improvements, 2 regressions)\n",
            "97.93% (-) 'recall@25' score\t(0 improvements, 0 regressions)\n",
            "97.93% (-) 'recall@30' score\t(0 improvements, 0 regressions)\n",
            "98.28% (-00.69%) 'recall@35' score\t(0 improvements, 2 regressions)\n",
            "98.62% (-01.03%) 'recall@40' score\t(0 improvements, 3 regressions)\n",
            "\n",
            "16.84s (+140.56%) 'duration'\t(4 improvements, 286 regressions)\n",
            "\n",
            "See results for reranker-k-comparison-120-88e6c54e-23bb-4f32-840d-f4e817eb3b2e at https://www.braintrust.dev/app/567/p/Text-2-SQL/experiments/reranker-k-comparison-120-88e6c54e-23bb-4f32-840d-f4e817eb3b2e\n"
          ]
        }
      ],
      "source": [
        "from braintrust import init_dataset, Eval\n",
        "from lancedb.rerankers import CohereReranker\n",
        "import uuid\n",
        "\n",
        "\n",
        "# Load subset of evaluation queries\n",
        "evaluation_queries = [\n",
        "    item for item in init_dataset(project=\"Text-2-SQL\", name=\"Bird-Bench-Questions\")\n",
        "]\n",
        "\n",
        "reranker = CohereReranker(model_name=\"rerank-english-v3.0\", column=\"query\")\n",
        "experiment_id = str(uuid.uuid4())\n",
        "embedding_model = \"text-embedding-3-small\"\n",
        "search_mode = \"vector\"\n",
        "reranker_name = \"rerank-english-v3.0\"\n",
        "\n",
        "reranker_results = []\n",
        "for retrieval_limit in [40, 80, 120]:\n",
        "    # Run evaluation\n",
        "    benchmark_result = await Eval(\n",
        "        name=\"Text-2-SQL\",\n",
        "        experiment_name=f\"reranker-k-comparison-{retrieval_limit}-{experiment_id}\",\n",
        "        task=lambda query: retrieve(\n",
        "            question=query,\n",
        "            max_k=retrieval_limit,\n",
        "            table=table_small,\n",
        "            mode=\"vector\",\n",
        "            reranker=reranker,\n",
        "        ),\n",
        "        data=evaluation_queries,\n",
        "        scores=[evaluate_braintrust],\n",
        "        metadata={\n",
        "            \"retrieval_limit\": retrieval_limit,\n",
        "        },\n",
        "    )\n",
        "\n",
        "    # Process benchmark results\n",
        "    performance_scores = benchmark_result.summary.scores\n",
        "    for metric_name, score_data in performance_scores.items():\n",
        "        metric_type, top_k = metric_name.split(\"@\")\n",
        "        reranker_results.append(\n",
        "            {\n",
        "                \"metric\": metric_type,\n",
        "                \"k\": int(top_k),\n",
        "                \"score\": score_data.score,\n",
        "                \"retrieval_limit\": retrieval_limit,\n",
        "            }\n",
        "        )"
      ]
    },
    {
      "cell_type": "code",
      "execution_count": null,
      "metadata": {
        "id": "2Xoz7EaolYxx"
      },
      "outputs": [],
      "source": [
        "reranker_df = pd.DataFrame(reranker_results)"
      ]
    },
    {
      "cell_type": "code",
      "execution_count": null,
      "metadata": {
        "id": "4QWCc-7PlYxy",
        "outputId": "6c2681a2-1e22-499a-b7bf-b2f8cd7a464b"
      },
      "outputs": [
        {
          "data": {
            "image/png": "[encoded data removed]",
            "text/plain": [
              "<Figure size 1000x600 with 1 Axes>"
            ]
          },
          "metadata": {},
          "output_type": "display_data"
        }
      ],
      "source": [
        "# Filter for recall metric and create plot\n",
        "recall_df = reranker_df[reranker_df[\"metric\"] == \"recall\"]\n",
        "limits_to_plot = [40, 80, 120]\n",
        "\n",
        "plt.figure(figsize=(10, 6))\n",
        "for limit in limits_to_plot:\n",
        "    data = recall_df[recall_df[\"retrieval_limit\"] == limit]\n",
        "    plt.plot(data[\"k\"], data[\"score\"], label=f\"Retrieval Limit = {limit}\", marker=\"o\")\n",
        "\n",
        "plt.xlabel(\"k\")\n",
        "plt.ylabel(\"Recall\")\n",
        "plt.title(\"Recall@k for Different Retrieval Limits\")\n",
        "plt.legend()\n",
        "plt.grid(True)\n",
        "plt.ylim(bottom=0)\n",
        "plt.show()"
      ]
    },
    {
      "cell_type": "code",
      "execution_count": null,
      "metadata": {
        "id": "J1VadeCklYxy",
        "outputId": "d8278e6f-f444-4b5d-d9a6-4bcf60e60094"
      },
      "outputs": [
        {
          "data": {
            "image/png": "[encoded data removed]",
            "text/plain": [
              "<Figure size 1000x600 with 1 Axes>"
            ]
          },
          "metadata": {},
          "output_type": "display_data"
        }
      ],
      "source": [
        "# Filter for recall metric and create plot\n",
        "recall_df = reranker_df[reranker_df[\"metric\"] == \"mrr\"]\n",
        "limits_to_plot = [40, 80, 120]\n",
        "\n",
        "plt.figure(figsize=(10, 6))\n",
        "for limit in limits_to_plot:\n",
        "    data = recall_df[recall_df[\"retrieval_limit\"] == limit]\n",
        "    plt.plot(data[\"k\"], data[\"score\"], label=f\"Retrieval Limit = {limit}\", marker=\"o\")\n",
        "\n",
        "plt.xlabel(\"k\")\n",
        "plt.ylabel(\"MRR\")\n",
        "plt.title(\"MRR@k for Different Retrieval Limits\")\n",
        "plt.legend()\n",
        "plt.grid(True)\n",
        "plt.ylim(bottom=0)\n",
        "plt.show()"
      ]
    },
    {
      "cell_type": "markdown",
      "metadata": {
        "id": "O24zmObIlYxy"
      },
      "source": [
        "## Conclusion\n",
        "\n",
        "Our analysis showed that increasing items passed to the re-ranker yielded minimal gains. This fits into a broader pattern of findings from our rigorous comparison of different retrieval strategies:\n",
        "\n",
        "1. Embedding search outperformed hybrid search in both recall and MRR metrics\n",
        "2. The choice of embedding model significantly impacted performance\n",
        "3. Re-ranking provided minimal benefits for our specific use case\n",
        "\n",
        "These methods provide a foundation for Week 2's fine-tuning work and Week 4's query understanding systems. Early evaluation helps us make informed decisions about which methods to use, this is especially valuable as our RAG system grows more sophisticated.\n",
        "\n",
        "Remember that these results are specific to our test dataset - your evaluations may yield different insights. In the next notebook, we'll explore statistical techniques to validate that these performance differences are meaningful.\n"
      ]
    }
  ],
  "metadata": {
    "kernelspec": {
      "display_name": ".venv",
      "language": "python",
      "name": "python3"
    },
    "language_info": {
      "codemirror_mode": {
        "name": "ipython",
        "version": 3
      },
      "file_extension": ".py",
      "mimetype": "text/x-python",
      "name": "python",
      "nbconvert_exporter": "python",
      "pygments_lexer": "ipython3",
      "version": "3.9.6"
    },
    "colab": {
      "provenance": [],
      "include_colab_link": true
    },
    "widgets": {
      "application/vnd.jupyter.widget-state+json": {
        "52da59fb367746c09aa2d69bbd312cf6": {
          "model_module": "@jupyter-widgets/controls",
          "model_name": "HBoxModel",
          "model_module_version": "1.5.0",
          "state": {
            "_dom_classes": [],
            "_model_module": "@jupyter-widgets/controls",
            "_model_module_version": "1.5.0",
            "_model_name": "HBoxModel",
            "_view_count": null,
            "_view_module": "@jupyter-widgets/controls",
            "_view_module_version": "1.5.0",
            "_view_name": "HBoxView",
            "box_style": "",
            "children": [
              "IPY_MODEL_a77a2c698543494bbc9c67ed42650472",
              "IPY_MODEL_94df98b35f8f4be4bfc0bee483d3cf8e",
              "IPY_MODEL_c65e04783bf04a34b47615a7ed625ef4"
            ],
            "layout": "IPY_MODEL_719dbc5c89e943afafa9a1650d170989"
          }
        },
        "a77a2c698543494bbc9c67ed42650472": {
          "model_module": "@jupyter-widgets/controls",
          "model_name": "HTMLModel",
          "model_module_version": "1.5.0",
          "state": {
            "_dom_classes": [],
            "_model_module": "@jupyter-widgets/controls",
            "_model_module_version": "1.5.0",
            "_model_name": "HTMLModel",
            "_view_count": null,
            "_view_module": "@jupyter-widgets/controls",
            "_view_module_version": "1.5.0",
            "_view_name": "HTMLView",
            "description": "",
            "description_tooltip": null,
            "layout": "IPY_MODEL_441332aed8aa40f0a3cec701d694d9d2",
            "placeholder": "​",
            "style": "IPY_MODEL_08702ff083e24a438af28c3dbec0df3d",
            "value": "README.md: 100%"
          }
        },
        "94df98b35f8f4be4bfc0bee483d3cf8e": {
          "model_module": "@jupyter-widgets/controls",
          "model_name": "FloatProgressModel",
          "model_module_version": "1.5.0",
          "state": {
            "_dom_classes": [],
            "_model_module": "@jupyter-widgets/controls",
            "_model_module_version": "1.5.0",
            "_model_name": "FloatProgressModel",
            "_view_count": null,
            "_view_module": "@jupyter-widgets/controls",
            "_view_module_version": "1.5.0",
            "_view_name": "ProgressView",
            "bar_style": "success",
            "description": "",
            "description_tooltip": null,
            "layout": "IPY_MODEL_8f0d3e03e2614890ada6f5f6fcc7681e",
            "max": 341,
            "min": 0,
            "orientation": "horizontal",
            "style": "IPY_MODEL_c23d9db57afe4ee3a5c33cee5b2d31ce",
            "value": 341
          }
        },
        "c65e04783bf04a34b47615a7ed625ef4": {
          "model_module": "@jupyter-widgets/controls",
          "model_name": "HTMLModel",
          "model_module_version": "1.5.0",
          "state": {
            "_dom_classes": [],
            "_model_module": "@jupyter-widgets/controls",
            "_model_module_version": "1.5.0",
            "_model_name": "HTMLModel",
            "_view_count": null,
            "_view_module": "@jupyter-widgets/controls",
            "_view_module_version": "1.5.0",
            "_view_name": "HTMLView",
            "description": "",
            "description_tooltip": null,
            "layout": "IPY_MODEL_fb826562ad874b57a7bf223eb35084f5",
            "placeholder": "​",
            "style": "IPY_MODEL_002bde57cddb4fbc83172c7c1329ad1d",
            "value": " 341/341 [00:00&lt;00:00, 15.8kB/s]"
          }
        },
        "719dbc5c89e943afafa9a1650d170989": {
          "model_module": "@jupyter-widgets/base",
          "model_name": "LayoutModel",
          "model_module_version": "1.2.0",
          "state": {
            "_model_module": "@jupyter-widgets/base",
            "_model_module_version": "1.2.0",
            "_model_name": "LayoutModel",
            "_view_count": null,
            "_view_module": "@jupyter-widgets/base",
            "_view_module_version": "1.2.0",
            "_view_name": "LayoutView",
            "align_content": null,
            "align_items": null,
            "align_self": null,
            "border": null,
            "bottom": null,
            "display": null,
            "flex": null,
            "flex_flow": null,
            "grid_area": null,
            "grid_auto_columns": null,
            "grid_auto_flow": null,
            "grid_auto_rows": null,
            "grid_column": null,
            "grid_gap": null,
            "grid_row": null,
            "grid_template_areas": null,
            "grid_template_columns": null,
            "grid_template_rows": null,
            "height": null,
            "justify_content": null,
            "justify_items": null,
            "left": null,
            "margin": null,
            "max_height": null,
            "max_width": null,
            "min_height": null,
            "min_width": null,
            "object_fit": null,
            "object_position": null,
            "order": null,
            "overflow": null,
            "overflow_x": null,
            "overflow_y": null,
            "padding": null,
            "right": null,
            "top": null,
            "visibility": null,
            "width": null
          }
        },
        "441332aed8aa40f0a3cec701d694d9d2": {
          "model_module": "@jupyter-widgets/base",
          "model_name": "LayoutModel",
          "model_module_version": "1.2.0",
          "state": {
            "_model_module": "@jupyter-widgets/base",
            "_model_module_version": "1.2.0",
            "_model_name": "LayoutModel",
            "_view_count": null,
            "_view_module": "@jupyter-widgets/base",
            "_view_module_version": "1.2.0",
            "_view_name": "LayoutView",
            "align_content": null,
            "align_items": null,
            "align_self": null,
            "border": null,
            "bottom": null,
            "display": null,
            "flex": null,
            "flex_flow": null,
            "grid_area": null,
            "grid_auto_columns": null,
            "grid_auto_flow": null,
            "grid_auto_rows": null,
            "grid_column": null,
            "grid_gap": null,
            "grid_row": null,
            "grid_template_areas": null,
            "grid_template_columns": null,
            "grid_template_rows": null,
            "height": null,
            "justify_content": null,
            "justify_items": null,
            "left": null,
            "margin": null,
            "max_height": null,
            "max_width": null,
            "min_height": null,
            "min_width": null,
            "object_fit": null,
            "object_position": null,
            "order": null,
            "overflow": null,
            "overflow_x": null,
            "overflow_y": null,
            "padding": null,
            "right": null,
            "top": null,
            "visibility": null,
            "width": null
          }
        },
        "08702ff083e24a438af28c3dbec0df3d": {
          "model_module": "@jupyter-widgets/controls",
          "model_name": "DescriptionStyleModel",
          "model_module_version": "1.5.0",
          "state": {
            "_model_module": "@jupyter-widgets/controls",
            "_model_module_version": "1.5.0",
            "_model_name": "DescriptionStyleModel",
            "_view_count": null,
            "_view_module": "@jupyter-widgets/base",
            "_view_module_version": "1.2.0",
            "_view_name": "StyleView",
            "description_width": ""
          }
        },
        "8f0d3e03e2614890ada6f5f6fcc7681e": {
          "model_module": "@jupyter-widgets/base",
          "model_name": "LayoutModel",
          "model_module_version": "1.2.0",
          "state": {
            "_model_module": "@jupyter-widgets/base",
            "_model_module_version": "1.2.0",
            "_model_name": "LayoutModel",
            "_view_count": null,
            "_view_module": "@jupyter-widgets/base",
            "_view_module_version": "1.2.0",
            "_view_name": "LayoutView",
            "align_content": null,
            "align_items": null,
            "align_self": null,
            "border": null,
            "bottom": null,
            "display": null,
            "flex": null,
            "flex_flow": null,
            "grid_area": null,
            "grid_auto_columns": null,
            "grid_auto_flow": null,
            "grid_auto_rows": null,
            "grid_column": null,
            "grid_gap": null,
            "grid_row": null,
            "grid_template_areas": null,
            "grid_template_columns": null,
            "grid_template_rows": null,
            "height": null,
            "justify_content": null,
            "justify_items": null,
            "left": null,
            "margin": null,
            "max_height": null,
            "max_width": null,
            "min_height": null,
            "min_width": null,
            "object_fit": null,
            "object_position": null,
            "order": null,
            "overflow": null,
            "overflow_x": null,
            "overflow_y": null,
            "padding": null,
            "right": null,
            "top": null,
            "visibility": null,
            "width": null
          }
        },
        "c23d9db57afe4ee3a5c33cee5b2d31ce": {
          "model_module": "@jupyter-widgets/controls",
          "model_name": "ProgressStyleModel",
          "model_module_version": "1.5.0",
          "state": {
            "_model_module": "@jupyter-widgets/controls",
            "_model_module_version": "1.5.0",
            "_model_name": "ProgressStyleModel",
            "_view_count": null,
            "_view_module": "@jupyter-widgets/base",
            "_view_module_version": "1.2.0",
            "_view_name": "StyleView",
            "bar_color": null,
            "description_width": ""
          }
        },
        "fb826562ad874b57a7bf223eb35084f5": {
          "model_module": "@jupyter-widgets/base",
          "model_name": "LayoutModel",
          "model_module_version": "1.2.0",
          "state": {
            "_model_module": "@jupyter-widgets/base",
            "_model_module_version": "1.2.0",
            "_model_name": "LayoutModel",
            "_view_count": null,
            "_view_module": "@jupyter-widgets/base",
            "_view_module_version": "1.2.0",
            "_view_name": "LayoutView",
            "align_content": null,
            "align_items": null,
            "align_self": null,
            "border": null,
            "bottom": null,
            "display": null,
            "flex": null,
            "flex_flow": null,
            "grid_area": null,
            "grid_auto_columns": null,
            "grid_auto_flow": null,
            "grid_auto_rows": null,
            "grid_column": null,
            "grid_gap": null,
            "grid_row": null,
            "grid_template_areas": null,
            "grid_template_columns": null,
            "grid_template_rows": null,
            "height": null,
            "justify_content": null,
            "justify_items": null,
            "left": null,
            "margin": null,
            "max_height": null,
            "max_width": null,
            "min_height": null,
            "min_width": null,
            "object_fit": null,
            "object_position": null,
            "order": null,
            "overflow": null,
            "overflow_x": null,
            "overflow_y": null,
            "padding": null,
            "right": null,
            "top": null,
            "visibility": null,
            "width": null
          }
        },
        "002bde57cddb4fbc83172c7c1329ad1d": {
          "model_module": "@jupyter-widgets/controls",
          "model_name": "DescriptionStyleModel",
          "model_module_version": "1.5.0",
          "state": {
            "_model_module": "@jupyter-widgets/controls",
            "_model_module_version": "1.5.0",
            "_model_name": "DescriptionStyleModel",
            "_view_count": null,
            "_view_module": "@jupyter-widgets/base",
            "_view_module_version": "1.2.0",
            "_view_name": "StyleView",
            "description_width": ""
          }
        },
        "aec83750132c463d8593c14556bd02c5": {
          "model_module": "@jupyter-widgets/controls",
          "model_name": "HBoxModel",
          "model_module_version": "1.5.0",
          "state": {
            "_dom_classes": [],
            "_model_module": "@jupyter-widgets/controls",
            "_model_module_version": "1.5.0",
            "_model_name": "HBoxModel",
            "_view_count": null,
            "_view_module": "@jupyter-widgets/controls",
            "_view_module_version": "1.5.0",
            "_view_name": "HBoxView",
            "box_style": "",
            "children": [
              "IPY_MODEL_fcfdee8abc2549cf98e098a5233263d7",
              "IPY_MODEL_3fa564886d544390a5317b1d027b8d70",
              "IPY_MODEL_cd2f114ef5744fb58c7e2352b78cc326"
            ],
            "layout": "IPY_MODEL_af6bd71d7dc541a1bcf8858d5633a76c"
          }
        },
        "fcfdee8abc2549cf98e098a5233263d7": {
          "model_module": "@jupyter-widgets/controls",
          "model_name": "HTMLModel",
          "model_module_version": "1.5.0",
          "state": {
            "_dom_classes": [],
            "_model_module": "@jupyter-widgets/controls",
            "_model_module_version": "1.5.0",
            "_model_name": "HTMLModel",
            "_view_count": null,
            "_view_module": "@jupyter-widgets/controls",
            "_view_module_version": "1.5.0",
            "_view_name": "HTMLView",
            "description": "",
            "description_tooltip": null,
            "layout": "IPY_MODEL_4eea0575b7de4999a3f063c2d25d9352",
            "placeholder": "​",
            "style": "IPY_MODEL_d1a0e03bb3be44288ced201d22214485",
            "value": "train-00000-of-00001.parquet: 100%"
          }
        },
        "3fa564886d544390a5317b1d027b8d70": {
          "model_module": "@jupyter-widgets/controls",
          "model_name": "FloatProgressModel",
          "model_module_version": "1.5.0",
          "state": {
            "_dom_classes": [],
            "_model_module": "@jupyter-widgets/controls",
            "_model_module_version": "1.5.0",
            "_model_name": "FloatProgressModel",
            "_view_count": null,
            "_view_module": "@jupyter-widgets/controls",
            "_view_module_version": "1.5.0",
            "_view_name": "ProgressView",
            "bar_style": "success",
            "description": "",
            "description_tooltip": null,
            "layout": "IPY_MODEL_6166bcf5cb1541e5bbc0c302f961a5d6",
            "max": 85294,
            "min": 0,
            "orientation": "horizontal",
            "style": "IPY_MODEL_fac28dd332fe4803bfc762723bdd7ce6",
            "value": 85294
          }
        },
        "cd2f114ef5744fb58c7e2352b78cc326": {
          "model_module": "@jupyter-widgets/controls",
          "model_name": "HTMLModel",
          "model_module_version": "1.5.0",
          "state": {
            "_dom_classes": [],
            "_model_module": "@jupyter-widgets/controls",
            "_model_module_version": "1.5.0",
            "_model_name": "HTMLModel",
            "_view_count": null,
            "_view_module": "@jupyter-widgets/controls",
            "_view_module_version": "1.5.0",
            "_view_name": "HTMLView",
            "description": "",
            "description_tooltip": null,
            "layout": "IPY_MODEL_e8c3f12a6745485fa67c46d9578e748f",
            "placeholder": "​",
            "style": "IPY_MODEL_95a38d4703a5482b8da100bd2f3f85c6",
            "value": " 85.3k/85.3k [00:00&lt;00:00, 2.68MB/s]"
          }
        },
        "af6bd71d7dc541a1bcf8858d5633a76c": {
          "model_module": "@jupyter-widgets/base",
          "model_name": "LayoutModel",
          "model_module_version": "1.2.0",
          "state": {
            "_model_module": "@jupyter-widgets/base",
            "_model_module_version": "1.2.0",
            "_model_name": "LayoutModel",
            "_view_count": null,
            "_view_module": "@jupyter-widgets/base",
            "_view_module_version": "1.2.0",
            "_view_name": "LayoutView",
            "align_content": null,
            "align_items": null,
            "align_self": null,
            "border": null,
            "bottom": null,
            "display": null,
            "flex": null,
            "flex_flow": null,
            "grid_area": null,
            "grid_auto_columns": null,
            "grid_auto_flow": null,
            "grid_auto_rows": null,
            "grid_column": null,
            "grid_gap": null,
            "grid_row": null,
            "grid_template_areas": null,
            "grid_template_columns": null,
            "grid_template_rows": null,
            "height": null,
            "justify_content": null,
            "justify_items": null,
            "left": null,
            "margin": null,
            "max_height": null,
            "max_width": null,
            "min_height": null,
            "min_width": null,
            "object_fit": null,
            "object_position": null,
            "order": null,
            "overflow": null,
            "overflow_x": null,
            "overflow_y": null,
            "padding": null,
            "right": null,
            "top": null,
            "visibility": null,
            "width": null
          }
        },
        "4eea0575b7de4999a3f063c2d25d9352": {
          "model_module": "@jupyter-widgets/base",
          "model_name": "LayoutModel",
          "model_module_version": "1.2.0",
          "state": {
            "_model_module": "@jupyter-widgets/base",
            "_model_module_version": "1.2.0",
            "_model_name": "LayoutModel",
            "_view_count": null,
            "_view_module": "@jupyter-widgets/base",
            "_view_module_version": "1.2.0",
            "_view_name": "LayoutView",
            "align_content": null,
            "align_items": null,
            "align_self": null,
            "border": null,
            "bottom": null,
            "display": null,
            "flex": null,
            "flex_flow": null,
            "grid_area": null,
            "grid_auto_columns": null,
            "grid_auto_flow": null,
            "grid_auto_rows": null,
            "grid_column": null,
            "grid_gap": null,
            "grid_row": null,
            "grid_template_areas": null,
            "grid_template_columns": null,
            "grid_template_rows": null,
            "height": null,
            "justify_content": null,
            "justify_items": null,
            "left": null,
            "margin": null,
            "max_height": null,
            "max_width": null,
            "min_height": null,
            "min_width": null,
            "object_fit": null,
            "object_position": null,
            "order": null,
            "overflow": null,
            "overflow_x": null,
            "overflow_y": null,
            "padding": null,
            "right": null,
            "top": null,
            "visibility": null,
            "width": null
          }
        },
        "d1a0e03bb3be44288ced201d22214485": {
          "model_module": "@jupyter-widgets/controls",
          "model_name": "DescriptionStyleModel",
          "model_module_version": "1.5.0",
          "state": {
            "_model_module": "@jupyter-widgets/controls",
            "_model_module_version": "1.5.0",
            "_model_name": "DescriptionStyleModel",
            "_view_count": null,
            "_view_module": "@jupyter-widgets/base",
            "_view_module_version": "1.2.0",
            "_view_name": "StyleView",
            "description_width": ""
          }
        },
        "6166bcf5cb1541e5bbc0c302f961a5d6": {
          "model_module": "@jupyter-widgets/base",
          "model_name": "LayoutModel",
          "model_module_version": "1.2.0",
          "state": {
            "_model_module": "@jupyter-widgets/base",
            "_model_module_version": "1.2.0",
            "_model_name": "LayoutModel",
            "_view_count": null,
            "_view_module": "@jupyter-widgets/base",
            "_view_module_version": "1.2.0",
            "_view_name": "LayoutView",
            "align_content": null,
            "align_items": null,
            "align_self": null,
            "border": null,
            "bottom": null,
            "display": null,
            "flex": null,
            "flex_flow": null,
            "grid_area": null,
            "grid_auto_columns": null,
            "grid_auto_flow": null,
            "grid_auto_rows": null,
            "grid_column": null,
            "grid_gap": null,
            "grid_row": null,
            "grid_template_areas": null,
            "grid_template_columns": null,
            "grid_template_rows": null,
            "height": null,
            "justify_content": null,
            "justify_items": null,
            "left": null,
            "margin": null,
            "max_height": null,
            "max_width": null,
            "min_height": null,
            "min_width": null,
            "object_fit": null,
            "object_position": null,
            "order": null,
            "overflow": null,
            "overflow_x": null,
            "overflow_y": null,
            "padding": null,
            "right": null,
            "top": null,
            "visibility": null,
            "width": null
          }
        },
        "fac28dd332fe4803bfc762723bdd7ce6": {
          "model_module": "@jupyter-widgets/controls",
          "model_name": "ProgressStyleModel",
          "model_module_version": "1.5.0",
          "state": {
            "_model_module": "@jupyter-widgets/controls",
            "_model_module_version": "1.5.0",
            "_model_name": "ProgressStyleModel",
            "_view_count": null,
            "_view_module": "@jupyter-widgets/base",
            "_view_module_version": "1.2.0",
            "_view_name": "StyleView",
            "bar_color": null,
            "description_width": ""
          }
        },
        "e8c3f12a6745485fa67c46d9578e748f": {
          "model_module": "@jupyter-widgets/base",
          "model_name": "LayoutModel",
          "model_module_version": "1.2.0",
          "state": {
            "_model_module": "@jupyter-widgets/base",
            "_model_module_version": "1.2.0",
            "_model_name": "LayoutModel",
            "_view_count": null,
            "_view_module": "@jupyter-widgets/base",
            "_view_module_version": "1.2.0",
            "_view_name": "LayoutView",
            "align_content": null,
            "align_items": null,
            "align_self": null,
            "border": null,
            "bottom": null,
            "display": null,
            "flex": null,
            "flex_flow": null,
            "grid_area": null,
            "grid_auto_columns": null,
            "grid_auto_flow": null,
            "grid_auto_rows": null,
            "grid_column": null,
            "grid_gap": null,
            "grid_row": null,
            "grid_template_areas": null,
            "grid_template_columns": null,
            "grid_template_rows": null,
            "height": null,
            "justify_content": null,
            "justify_items": null,
            "left": null,
            "margin": null,
            "max_height": null,
            "max_width": null,
            "min_height": null,
            "min_width": null,
            "object_fit": null,
            "object_position": null,
            "order": null,
            "overflow": null,
            "overflow_x": null,
            "overflow_y": null,
            "padding": null,
            "right": null,
            "top": null,
            "visibility": null,
            "width": null
          }
        },
        "95a38d4703a5482b8da100bd2f3f85c6": {
          "model_module": "@jupyter-widgets/controls",
          "model_name": "DescriptionStyleModel",
          "model_module_version": "1.5.0",
          "state": {
            "_model_module": "@jupyter-widgets/controls",
            "_model_module_version": "1.5.0",
            "_model_name": "DescriptionStyleModel",
            "_view_count": null,
            "_view_module": "@jupyter-widgets/base",
            "_view_module_version": "1.2.0",
            "_view_name": "StyleView",
            "description_width": ""
          }
        },
        "29e9b62199da4d89969a00b3c283007c": {
          "model_module": "@jupyter-widgets/controls",
          "model_name": "HBoxModel",
          "model_module_version": "1.5.0",
          "state": {
            "_dom_classes": [],
            "_model_module": "@jupyter-widgets/controls",
            "_model_module_version": "1.5.0",
            "_model_name": "HBoxModel",
            "_view_count": null,
            "_view_module": "@jupyter-widgets/controls",
            "_view_module_version": "1.5.0",
            "_view_name": "HBoxView",
            "box_style": "",
            "children": [
              "IPY_MODEL_20736c5c88984fabad83689ff5467762",
              "IPY_MODEL_51812b76fa4e460fb76c9832da64a3c6",
              "IPY_MODEL_27cfe8ad3db04b1d91ef7c5cfca828e5"
            ],
            "layout": "IPY_MODEL_a11a4054ca054828ac93ef14517fdf1a"
          }
        },
        "20736c5c88984fabad83689ff5467762": {
          "model_module": "@jupyter-widgets/controls",
          "model_name": "HTMLModel",
          "model_module_version": "1.5.0",
          "state": {
            "_dom_classes": [],
            "_model_module": "@jupyter-widgets/controls",
            "_model_module_version": "1.5.0",
            "_model_name": "HTMLModel",
            "_view_count": null,
            "_view_module": "@jupyter-widgets/controls",
            "_view_module_version": "1.5.0",
            "_view_name": "HTMLView",
            "description": "",
            "description_tooltip": null,
            "layout": "IPY_MODEL_253e07dfce8a447ca9c0643c1cb11062",
            "placeholder": "​",
            "style": "IPY_MODEL_4d165b231fbf4f29a75fecd23fee4f00",
            "value": "Generating train split: 100%"
          }
        },
        "51812b76fa4e460fb76c9832da64a3c6": {
          "model_module": "@jupyter-widgets/controls",
          "model_name": "FloatProgressModel",
          "model_module_version": "1.5.0",
          "state": {
            "_dom_classes": [],
            "_model_module": "@jupyter-widgets/controls",
            "_model_module_version": "1.5.0",
            "_model_name": "FloatProgressModel",
            "_view_count": null,
            "_view_module": "@jupyter-widgets/controls",
            "_view_module_version": "1.5.0",
            "_view_name": "ProgressView",
            "bar_style": "success",
            "description": "",
            "description_tooltip": null,
            "layout": "IPY_MODEL_0f9b5088727647efaf499142e5735ca6",
            "max": 1528,
            "min": 0,
            "orientation": "horizontal",
            "style": "IPY_MODEL_0a6961086bf74df191f7e5115448f970",
            "value": 1528
          }
        },
        "27cfe8ad3db04b1d91ef7c5cfca828e5": {
          "model_module": "@jupyter-widgets/controls",
          "model_name": "HTMLModel",
          "model_module_version": "1.5.0",
          "state": {
            "_dom_classes": [],
            "_model_module": "@jupyter-widgets/controls",
            "_model_module_version": "1.5.0",
            "_model_name": "HTMLModel",
            "_view_count": null,
            "_view_module": "@jupyter-widgets/controls",
            "_view_module_version": "1.5.0",
            "_view_name": "HTMLView",
            "description": "",
            "description_tooltip": null,
            "layout": "IPY_MODEL_0fa47db6daca4951b2a1590ae2de65c9",
            "placeholder": "​",
            "style": "IPY_MODEL_b7061383be2140f3a1b5879b2272bbe9",
            "value": " 1528/1528 [00:00&lt;00:00, 22887.04 examples/s]"
          }
        },
        "a11a4054ca054828ac93ef14517fdf1a": {
          "model_module": "@jupyter-widgets/base",
          "model_name": "LayoutModel",
          "model_module_version": "1.2.0",
          "state": {
            "_model_module": "@jupyter-widgets/base",
            "_model_module_version": "1.2.0",
            "_model_name": "LayoutModel",
            "_view_count": null,
            "_view_module": "@jupyter-widgets/base",
            "_view_module_version": "1.2.0",
            "_view_name": "LayoutView",
            "align_content": null,
            "align_items": null,
            "align_self": null,
            "border": null,
            "bottom": null,
            "display": null,
            "flex": null,
            "flex_flow": null,
            "grid_area": null,
            "grid_auto_columns": null,
            "grid_auto_flow": null,
            "grid_auto_rows": null,
            "grid_column": null,
            "grid_gap": null,
            "grid_row": null,
            "grid_template_areas": null,
            "grid_template_columns": null,
            "grid_template_rows": null,
            "height": null,
            "justify_content": null,
            "justify_items": null,
            "left": null,
            "margin": null,
            "max_height": null,
            "max_width": null,
            "min_height": null,
            "min_width": null,
            "object_fit": null,
            "object_position": null,
            "order": null,
            "overflow": null,
            "overflow_x": null,
            "overflow_y": null,
            "padding": null,
            "right": null,
            "top": null,
            "visibility": null,
            "width": null
          }
        },
        "253e07dfce8a447ca9c0643c1cb11062": {
          "model_module": "@jupyter-widgets/base",
          "model_name": "LayoutModel",
          "model_module_version": "1.2.0",
          "state": {
            "_model_module": "@jupyter-widgets/base",
            "_model_module_version": "1.2.0",
            "_model_name": "LayoutModel",
            "_view_count": null,
            "_view_module": "@jupyter-widgets/base",
            "_view_module_version": "1.2.0",
            "_view_name": "LayoutView",
            "align_content": null,
            "align_items": null,
            "align_self": null,
            "border": null,
            "bottom": null,
            "display": null,
            "flex": null,
            "flex_flow": null,
            "grid_area": null,
            "grid_auto_columns": null,
            "grid_auto_flow": null,
            "grid_auto_rows": null,
            "grid_column": null,
            "grid_gap": null,
            "grid_row": null,
            "grid_template_areas": null,
            "grid_template_columns": null,
            "grid_template_rows": null,
            "height": null,
            "justify_content": null,
            "justify_items": null,
            "left": null,
            "margin": null,
            "max_height": null,
            "max_width": null,
            "min_height": null,
            "min_width": null,
            "object_fit": null,
            "object_position": null,
            "order": null,
            "overflow": null,
            "overflow_x": null,
            "overflow_y": null,
            "padding": null,
            "right": null,
            "top": null,
            "visibility": null,
            "width": null
          }
        },
        "4d165b231fbf4f29a75fecd23fee4f00": {
          "model_module": "@jupyter-widgets/controls",
          "model_name": "DescriptionStyleModel",
          "model_module_version": "1.5.0",
          "state": {
            "_model_module": "@jupyter-widgets/controls",
            "_model_module_version": "1.5.0",
            "_model_name": "DescriptionStyleModel",
            "_view_count": null,
            "_view_module": "@jupyter-widgets/base",
            "_view_module_version": "1.2.0",
            "_view_name": "StyleView",
            "description_width": ""
          }
        },
        "0f9b5088727647efaf499142e5735ca6": {
          "model_module": "@jupyter-widgets/base",
          "model_name": "LayoutModel",
          "model_module_version": "1.2.0",
          "state": {
            "_model_module": "@jupyter-widgets/base",
            "_model_module_version": "1.2.0",
            "_model_name": "LayoutModel",
            "_view_count": null,
            "_view_module": "@jupyter-widgets/base",
            "_view_module_version": "1.2.0",
            "_view_name": "LayoutView",
            "align_content": null,
            "align_items": null,
            "align_self": null,
            "border": null,
            "bottom": null,
            "display": null,
            "flex": null,
            "flex_flow": null,
            "grid_area": null,
            "grid_auto_columns": null,
            "grid_auto_flow": null,
            "grid_auto_rows": null,
            "grid_column": null,
            "grid_gap": null,
            "grid_row": null,
            "grid_template_areas": null,
            "grid_template_columns": null,
            "grid_template_rows": null,
            "height": null,
            "justify_content": null,
            "justify_items": null,
            "left": null,
            "margin": null,
            "max_height": null,
            "max_width": null,
            "min_height": null,
            "min_width": null,
            "object_fit": null,
            "object_position": null,
            "order": null,
            "overflow": null,
            "overflow_x": null,
            "overflow_y": null,
            "padding": null,
            "right": null,
            "top": null,
            "visibility": null,
            "width": null
          }
        },
        "0a6961086bf74df191f7e5115448f970": {
          "model_module": "@jupyter-widgets/controls",
          "model_name": "ProgressStyleModel",
          "model_module_version": "1.5.0",
          "state": {
            "_model_module": "@jupyter-widgets/controls",
            "_model_module_version": "1.5.0",
            "_model_name": "ProgressStyleModel",
            "_view_count": null,
            "_view_module": "@jupyter-widgets/base",
            "_view_module_version": "1.2.0",
            "_view_name": "StyleView",
            "bar_color": null,
            "description_width": ""
          }
        },
        "0fa47db6daca4951b2a1590ae2de65c9": {
          "model_module": "@jupyter-widgets/base",
          "model_name": "LayoutModel",
          "model_module_version": "1.2.0",
          "state": {
            "_model_module": "@jupyter-widgets/base",
            "_model_module_version": "1.2.0",
            "_model_name": "LayoutModel",
            "_view_count": null,
            "_view_module": "@jupyter-widgets/base",
            "_view_module_version": "1.2.0",
            "_view_name": "LayoutView",
            "align_content": null,
            "align_items": null,
            "align_self": null,
            "border": null,
            "bottom": null,
            "display": null,
            "flex": null,
            "flex_flow": null,
            "grid_area": null,
            "grid_auto_columns": null,
            "grid_auto_flow": null,
            "grid_auto_rows": null,
            "grid_column": null,
            "grid_gap": null,
            "grid_row": null,
            "grid_template_areas": null,
            "grid_template_columns": null,
            "grid_template_rows": null,
            "height": null,
            "justify_content": null,
            "justify_items": null,
            "left": null,
            "margin": null,
            "max_height": null,
            "max_width": null,
            "min_height": null,
            "min_width": null,
            "object_fit": null,
            "object_position": null,
            "order": null,
            "overflow": null,
            "overflow_x": null,
            "overflow_y": null,
            "padding": null,
            "right": null,
            "top": null,
            "visibility": null,
            "width": null
          }
        },
        "b7061383be2140f3a1b5879b2272bbe9": {
          "model_module": "@jupyter-widgets/controls",
          "model_name": "DescriptionStyleModel",
          "model_module_version": "1.5.0",
          "state": {
            "_model_module": "@jupyter-widgets/controls",
            "_model_module_version": "1.5.0",
            "_model_name": "DescriptionStyleModel",
            "_view_count": null,
            "_view_module": "@jupyter-widgets/base",
            "_view_module_version": "1.2.0",
            "_view_name": "StyleView",
            "description_width": ""
          }
        }
      }
    }
  },
  "nbformat": 4,
  "nbformat_minor": 0
}